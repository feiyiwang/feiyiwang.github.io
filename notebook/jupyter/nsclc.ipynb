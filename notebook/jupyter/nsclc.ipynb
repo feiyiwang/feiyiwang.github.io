{
 "cells": [
  {
   "cell_type": "markdown",
   "metadata": {},
   "source": [
    "# Lung Cancer"
   ]
  },
  {
   "cell_type": "code",
   "execution_count": null,
   "metadata": {},
   "outputs": [],
   "source": []
  },
  {
   "cell_type": "markdown",
   "metadata": {},
   "source": [
    "#### Treatment\n",
    "1. Targeted Therapies - TKIs\n",
    "- target BCR-ABL. 1/4 ALL pts have Ph+\n",
    "2. Immunotherapy drugs (IMT)\n",
    "- Monoclonal antibodies\n",
    "    - can be designed to attack a specific target, such as a protein on the surface of leukemia cells.\n",
    "    - used to treat some types of B-cell ALL, typically after chemotherapy has been tried. B cells include some leukemia and lymphoma cells\n",
    "    - 1. Inotuzumab ozogamicin : This drug is an anti-CD22 antibody linked to a chemotherapy drug. B cells (including some leukemia cells) usually have the CD22 protein on their surface. The antibody acts like a homing signal, bringing the chemo drug to the leukemia cells, where it enters the cells and kills them when they try to divide into new cells. \n",
    "    - 2. Blinatumomab : can attach to the CD19 protein, which is found on B cells, AND to CD3, a protein found on T cells. By binding to both of these proteins, this drug brings the cancer cells and immune cells together, which is thought to cause the immune system to attack the cancer cells.\n",
    "- CAR T-cell therapy\n",
    "    - Tisagenlecleucel : targets the CD19 protein on certain leukemia cells. It can be used in children and young adults up to age 25 to treat B-cell ALL that has come back after treatment or that is no longer responding to treatment. In this treatment, T cells are removed from the person's blood via leukapheresis and genetically altered in the lab to have specific receptors (CARs) on their surface. These receptors can attach to proteins on leukemia cells. The T cells are then multiplied in the lab and given back into the blood, where they can seek out the leukemia cells and attack them.\n",
    "\n",
    "3. Stem cell transplant\n",
    "- Allogeneic Stem cell transplant\n",
    "- An autologous transplant may be an option for patients who can’t have an allogeneic transplant because they don’t have a matched donor, or for some other reason.\n",
    "\n",
    "4. Chemo (3 phases)\n",
    "- Induction, which is short and intensive, usually lasts about a month.\n",
    "- Consolidation (intensification), which is also intensive, typically lasts for a few months.\n",
    "- Maintenance (post-consolidation), which is less intensive, typically lasts for about 2 years.\n",
    "\n",
    "https://www.cancer.org/cancer/acute-lymphocytic-leukemia/treating/typical-treatment.html\n",
    "\n",
    "5. Radiation Therapy\n",
    "- if spread to the brain and spinal fluid, or to the testicles 睾丸.\n",
    "- Radiation to the whole body is often an important part of treatment before a bone marrow or peripheral blood stem cell transplant\n",
    "- reduce pain in an area of bone invaded by leukemia, if chemotherapy hasn’t helped."
   ]
  }
 ],
 "metadata": {
  "kernelspec": {
   "display_name": "Python 3",
   "language": "python",
   "name": "python3"
  },
  "language_info": {
   "codemirror_mode": {
    "name": "ipython",
    "version": 3
   },
   "file_extension": ".py",
   "mimetype": "text/x-python",
   "name": "python",
   "nbconvert_exporter": "python",
   "pygments_lexer": "ipython3",
   "version": "3.7.4"
  }
 },
 "nbformat": 4,
 "nbformat_minor": 4
}
