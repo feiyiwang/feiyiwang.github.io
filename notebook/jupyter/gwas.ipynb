{
 "cells": [
  {
   "cell_type": "markdown",
   "metadata": {},
   "source": [
    "# Statistical analysis of genome-wide association"
   ]
  },
  {
   "cell_type": "markdown",
   "metadata": {},
   "source": [
    "<b>Goal: </b>to identify genetic risk factors for complex multifactorial diseases"
   ]
  },
  {
   "cell_type": "markdown",
   "metadata": {},
   "source": [
    "# <span style='color:green'>Prerequisite</span>"
   ]
  },
  {
   "cell_type": "markdown",
   "metadata": {},
   "source": [
    "#### locus / loci\n",
    "a locus (plural loci) is a specific, fixed position on a chromosome where a particular gene or genetic marker is located。 Each chromosome carries many genes, with each gene occupying a different position or locus; in humans, the total number of protein-coding genes in a complete haploid set of 23 chromosomes is estimated at 19,000–20,000.\n",
    "\n",
    "The chromosomal locus of a typical gene, for example, might be written 3p22.1, where:\n",
    "\n",
    "- 3 = chromosome 3\n",
    "- p = p-arm\n",
    "- 22 = region 2, band 2 (read as \"two, two\", not \"twenty-two\")\n",
    "- 1 = sub-band 1\n",
    "\n",
    "<img width=\"300\" src=\"https://feiyiwang.github.io/notebook/jupyter/bio/chromosome.svg\">\n",
    "\n",
    "#### allel\n",
    "an allel is a variant form of a given gene,[4] meaning it is one of two or more versions of a known mutation at the same place on a chromosome.\n",
    "\n",
    "#### genotype\n",
    "The genotype is the part of the genetic makeup of a cell, and therefore of any individual, which determines one of its characteristics (phenotype).\n",
    "\n",
    "The genotype is one of three factors that determine phenotype, along with inherited epigenetic factors and non-inherited environmental factors.\n",
    "\n",
    "#### phenotype\n",
    "The term covers the organism's morphology or physical form and structure, its developmental processes, its biochemical and physiological properties, its behavior, and the products of behavior. An organism's phenotype results from two basic factors: the expression of an organism's genetic code, or its genotype, and the influence of environmental factors. Both factors may interact, further affecting phenotype.\n",
    "\n",
    "<img width=\"300\" src=\"https://feiyiwang.github.io/notebook/jupyter/bio/genotype.svg\">\n",
    "\n",
    "#### SNV vs SNP\n",
    "\n",
    "A single-nucleotide polymorphism is a single nucleotide change(substitution) which we see in more than 1% members of a population.\n",
    "\n",
    "A single nucleotide variation is just a variation in a single nucleotide without any limitations of frequency.\n",
    "\n",
    "<img width=\"300\" src=\"https://feiyiwang.github.io/notebook/jupyter/bio/Dna-SNP.svg\">\n",
    "\n",
    "#### QTL\n",
    "\n",
    "#### MFA"
   ]
  },
  {
   "cell_type": "code",
   "execution_count": null,
   "metadata": {},
   "outputs": [],
   "source": []
  },
  {
   "cell_type": "markdown",
   "metadata": {},
   "source": [
    "somatic mutation vs germline mutation\n",
    "\n",
    "early onset vs late onset\n",
    "\n",
    "dementia type\n",
    "Alzheimer's disease\n",
    "vascular dementia\n",
    "Lewy boday dementia\n",
    "frontotemporal disorders ftd\n",
    "\n",
    "hardy-weinberg equilibrium\n",
    "\n",
    "dna: deoxyribonucleic acid 脱氧核糖核酸\n",
    "gene： 一段有特定功能的dna片段\n",
    "chromosome: 染色体\n",
    "\n",
    "x为一个染色体\n",
    "shorter arm - p arm\n",
    "longer arm - q arm\n",
    "\n",
    "eg:\n",
    "在一段核苷酸组成的gene片段中可能的一种组合 -> allel\n",
    "核苷酸 at one base 能否被替换 -> SNV\n",
    "核苷酸 at one base 能被替换 with certain frequency （usually 1% in a population）, which may imply some association with a phenotype -> SNP Single-nucleotide polymorphism\n",
    "\n",
    "snp是gwas的研究基础\n",
    "\n",
    "\n",
    "In immunology, an antigen 抗原 is a molecule or molecular structure, such as may be present at the outside of a pathogen 病原体 （细菌，细菌内毒素，病毒，真菌 etc）, that can be bound to by an antigen-specific antibody 抗体 or B cell antigen receptor 受体. \n",
    "\n",
    "familial vs sporadic\n",
    "e.g. 糖尿病 高血脂 \n",
    "\n",
    "\n",
    "编码 vs 非编码\n",
    "生成相应的蛋白质 VS 调节控制转录\n",
    "\n",
    "rna聚合酶 用 游离的核苷酸 生成 mRNA，用 修饰点（某种特定结构的片段） 调控 它的转录（transcribe） （从何开始，从何终止），到 e.g. uuuu 时终止 mRNA转录完成， 它可以 指导 转运rna（tRNA） 合成有相应功能的蛋白质\n",
    "复制 VS 转录 vs 翻译 -> 中心法则\n",
    "dna聚合酶 用 游离的核苷酸 生成 dna： 解旋，复制，\n",
    "\n",
    "启动子 promoter - 终止子 terminator\n",
    "（增强子 enhancer - 沉默子 silencer）绝缘子 insulater\n",
    "stop coden\n",
    "\n",
    "dna: a - t c - g\n",
    "rna: a - u c - g\n",
    "\n",
    "每3个核苷酸 - 1个coden 密码子 - 对应一个氨基酸\n",
    "氨基酸 是 组成蛋白质的基本单位\n",
    "核苷酸 是 组成dna rna 的基本单位\n",
    "\n",
    "复制较多的地方容易出错\n",
    "\n",
    "人体纠错机制 - 绝大部分的错误的蛋白质会被识别清除\n",
    "癌细胞 - 没有被纠错机制识别\n",
    "\n"
   ]
  },
  {
   "cell_type": "markdown",
   "metadata": {},
   "source": [
    "### Case-control GWA Studies\n",
    "• Obtain DNA from people with disease of interest (cases) and unaffected controls\n",
    "    \n",
    "• Run each DNA sample on a SNP chip to measure genotypes at 300,000-1,000,000 SNPs in cases and controls\n",
    "\n",
    "• Identify SNPs where one allele is significantly more common in cases than controls -> This SNP is associated with the disease\n",
    "    \n",
    "• Alternative strategy e.g. test for association between SNPs and a quantitative trait that underlies the disease\n",
    "    \n",
    "SNP: rs12425791 (Genotype) -> Blood pressure (endophenotype) -> Stroke (phenotype)"
   ]
  },
  {
   "cell_type": "markdown",
   "metadata": {},
   "source": [
    "### Association does not imply causation\n",
    "• Suppose that genotypes at a particular SNP are significantly associated with disease\n",
    "\n",
    "• This may be because the SNP is associated with some other factor (a confounder), which is associated with disease but is not in the same causal pathway\n",
    "\n",
    "SNP near lactase gene <- Northern European ancestry -> multiple sclerosis (MS)\n",
    "\n",
    "• Possible confounders of genetic associations:\n",
    "- Ethnic ancestry\n",
    "- Genotyping batch, genotyping centre\n",
    "- DNA quality\n",
    "\n",
    "• Environmental exposures in the same causal pathway"
   ]
  }
 ],
 "metadata": {
  "kernelspec": {
   "display_name": "Python 3",
   "language": "python",
   "name": "python3"
  },
  "language_info": {
   "codemirror_mode": {
    "name": "ipython",
    "version": 3
   },
   "file_extension": ".py",
   "mimetype": "text/x-python",
   "name": "python",
   "nbconvert_exporter": "python",
   "pygments_lexer": "ipython3",
   "version": "3.7.4"
  }
 },
 "nbformat": 4,
 "nbformat_minor": 4
}
