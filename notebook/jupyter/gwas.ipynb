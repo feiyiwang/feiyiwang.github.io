{
 "cells": [
  {
   "cell_type": "markdown",
   "metadata": {},
   "source": [
    "# Statistical analysis of genome-wide association"
   ]
  },
  {
   "cell_type": "markdown",
   "metadata": {},
   "source": [
    "<b>Goal: </b>to identify genetic risk factors for complex multifactorial diseases"
   ]
  },
  {
   "cell_type": "markdown",
   "metadata": {},
   "source": [
    "### Case-control GWA Studies\n",
    "• Obtain DNA from people with disease of interest (cases) and unaffected controls\n",
    "    \n",
    "• Run each DNA sample on a SNP chip to measure genotypes at 300,000-1,000,000 SNPs in cases and controls\n",
    "\n",
    "• Identify SNPs where one allele is significantly more common in cases than controls -> This SNP is associated with the disease\n",
    "    \n",
    "• Alternative strategy e.g. test for association between SNPs and a quantitative trait that underlies the disease\n",
    "    \n",
    "SNP: rs12425791 (Genotype) -> Blood pressure (endophenotype) -> Stroke (phenotype)"
   ]
  },
  {
   "cell_type": "markdown",
   "metadata": {},
   "source": [
    "### Association does not imply causation\n",
    "• Suppose that genotypes at a particular SNP are significantly associated with disease\n",
    "\n",
    "• This may be because the SNP is associated with some other factor (a confounder), which is associated with disease but is not in the same causal pathway\n",
    "\n",
    "SNP near lactase gene <- Northern European ancestry -> multiple sclerosis (MS)\n",
    "\n",
    "• Possible confounders of genetic associations:\n",
    "- Ethnic ancestry\n",
    "- Genotyping batch, genotyping centre\n",
    "- DNA quality\n",
    "\n",
    "• Environmental exposures in the same causal pathway"
   ]
  },
  {
   "cell_type": "markdown",
   "metadata": {},
   "source": []
  }
 ],
 "metadata": {
  "kernelspec": {
   "display_name": "Python 3",
   "language": "python",
   "name": "python3"
  },
  "language_info": {
   "codemirror_mode": {
    "name": "ipython",
    "version": 3
   },
   "file_extension": ".py",
   "mimetype": "text/x-python",
   "name": "python",
   "nbconvert_exporter": "python",
   "pygments_lexer": "ipython3",
   "version": "3.7.4"
  }
 },
 "nbformat": 4,
 "nbformat_minor": 4
}
