{
 "cells": [
  {
   "cell_type": "markdown",
   "metadata": {},
   "source": [
    "# Probability"
   ]
  },
  {
   "cell_type": "markdown",
   "metadata": {},
   "source": [
    "<span style=\"color:orange\">Intersection</span>: $A \\cap B$ ; <span style=\"color:orange\">Union</span>: $A \\cup B$\n",
    "\n",
    "<span style=\"color:orange\">Mutually exclusive</span> refers to two events that cannot both occur or be true at the same time.\n",
    "\n",
    "<span style=\"color:orange\">$P(A^C)$</span>, where $A^C$ is the complement of A, is the probability of all outcomes that are not in event A correct"
   ]
  },
  {
   "cell_type": "markdown",
   "metadata": {},
   "source": [
    "<span style=\"color:orange\">Simple sample space</span> is defined as a sample space where each of the possible outcomes are equally likely.\n",
    "\n",
    "##### Example\n",
    "Suppose that you have two spinners which you can spin to point towards red, orange, yellow, green, or blue with equal probability. If you spin each spinner once, \n",
    "\n",
    "1) what is the probability that both of the spinners will point to blue?\n",
    "- $\\frac{1}{5}*\\frac{1}{5}=\\frac{1}{25}$\n",
    "\n",
    "2) what is the probability that at least one of the spinners points to blue?\n",
    "- $1-(1-\\frac{1}{5})*(1-\\frac{1}{5})=1-\\frac{16}{25}=\\frac{9}{25}$"
   ]
  },
  {
   "cell_type": "markdown",
   "metadata": {},
   "source": [
    "<span style=\"color:orange\">Permutation/Arrangement</span> refers to an ordered arrangements of objects.\n",
    "\n",
    "$P(n,k)=\\frac{n!}{(n-k)!}$\n",
    "\n",
    "<span style=\"color:orange\">Combination</span>\n",
    "\n",
    "$C(n,k)=\\binom{n}{k}=\\frac{n!}{(n-k)!k!}$\n",
    "\n",
    "##### Example\n",
    "You have 10 movie options. 3 of these are action movies, and 7 are comedies. You randomly select two of them. \n",
    "\n",
    "1) How many possible outcomes are there if the order you watch them in does not matter?\n",
    "- $\\binom{10}{2}=\\frac{10*9}{2}=45$\n",
    "\n",
    "2) How many possible outcomes are there where you end up watching two comedies?\n",
    "- $\\binom{7}{2}=\\frac{7*6}{2}=21$\n",
    "\n",
    "3) What is the probability that you watch two comedies if you’re choosing randomly among the 10 movies?\n",
    "- $\\frac{C(7,2)}{C(10,2)}=\\frac{21}{45}$"
   ]
  },
  {
   "cell_type": "markdown",
   "metadata": {},
   "source": [
    "https://zhuanlan.zhihu.com/p/41855459"
   ]
  },
  {
   "cell_type": "markdown",
   "metadata": {},
   "source": [
    "If two events A and B are <span style=\"color:orange\">independent</span>, then the probability of B <span style=\"color:orange\">conditional on</span> A having occurred is equal to the probability of B. In probability notation, P(B|A)=P(B)."
   ]
  },
  {
   "cell_type": "markdown",
   "metadata": {},
   "source": [
    "#### <span style=\"color:orange\">Bayes' theorem</span>\n",
    "$$P(A|B) = \\frac{P(B|A) \\cdot P(A)}{P(B)} \\quad where \\quad P(A) \\leftarrow prior \\quad P(A|B) \\leftarrow  posterior$$"
   ]
  },
  {
   "cell_type": "markdown",
   "metadata": {},
   "source": [
    "##### Example\n",
    "Assume that the probability of having a rare condition c is 1%. It is possible to test for the condition, but the test is imperfect. If you have the condition, there is an 85% chance that you will test positive. If you do not have the condition, there is a 5% chance that you will test positive. Call the condition c, so that P(c) = 0.01, and call a positive test t+, so that p(t+|c) = 0.85.\n",
    "\n",
    "1) What is the probability p(t+) that you test positive for the condition?\n",
    "- $p(t+|c)+p(t+|c^c)=1\\% * 85\\% + 99\\% * 5\\%=0.058$\n",
    "\n",
    "2) What is the probability that you truly have the underlying condition?\n",
    "- $\\frac{1\\% * 85\\%}{1\\% * 85\\% + 99\\% * 5\\%}= 0.1466$"
   ]
  },
  {
   "cell_type": "markdown",
   "metadata": {},
   "source": [
    "##### Example\n",
    "Suppose that there is an 80% chance you will be invited to a dinner party on a Friday or Saturday evening. In contrast, there is only a 50% chance that you will be invited to a dinner party on one of the other nights of the week. Suppose that you know that you’ve been invited to a dinner party tonight, but have forgotten which day of the week it is. Once you know that you’ve been invited to a dinner party, what is the chance that it is either Friday or Saturday? \n",
    "$$p(fri / sat|party)=\\frac{p(party|fri / sat)*p(fri / sat)}{p(party)}=\\frac{80\\% * \\frac{2}{7}}{\\frac{2}{7} * 80\\%+\\frac{5}{7} * 50\\%}$$"
   ]
  },
  {
   "cell_type": "markdown",
   "metadata": {},
   "source": [
    "<span style=\"color:orange\">Discrete Random Variable</span> is a variable that can only take on a countable number of values correct\n",
    "\n",
    "e.g. The number of books in a box, the possible weight readings from a scale that measures in hundredths of a kilo from 0 to 100\n",
    "\n",
    "<span style=\"color:orange\">Continuous Random Variable</span> is a variable that can take on any value of the real line within some interval\n",
    "\n",
    "e.g. Temperature, weight, age"
   ]
  },
  {
   "cell_type": "markdown",
   "metadata": {},
   "source": [
    "A <span style=\"color:orange\">probability function</span> describes the set of probability associated with each of the possible values of a random variable."
   ]
  },
  {
   "cell_type": "markdown",
   "metadata": {},
   "source": [
    "#### Binomial Distribution\n",
    "$$f_X(x)=\\binom{n}{x}p^x(1-p)^{n-x} \\quad where \\quad x \\in \\{0,1,...,n\\}$$\n",
    "\n",
    "$$E[X]=np \\quad Var(X)=np(1-p)$$\n",
    "\n",
    "The binomial distribution describes the number of successes (k) in n trials where in each of the trials there is a binary outcome (usually classified as “success” or “failure”). Furthermore, the “success” and “failure” outcomes are not required to be equally likely."
   ]
  },
  {
   "cell_type": "markdown",
   "metadata": {},
   "source": [
    "https://en.wikipedia.org/wiki/Binomial_distribution"
   ]
  },
  {
   "cell_type": "markdown",
   "metadata": {},
   "source": [
    "#### Hypergeometric Distribution\n",
    "$$f_X(x)=\\frac{\\binom{K}{x} \\binom{N-K}{n-x}}{\\binom{N}{n}} \\quad where \\quad x \\in \\{max(0,n+K-N), ... , min(n,K)\\}$$\n",
    "\n",
    "$$E[X]=n\\frac{K}{N} \\quad Var(X)=n\\frac{K}{N}\\frac{N-K}{N}\\frac{N-n}{N-1}$$\n",
    "\n",
    "This distribution describes the number of “successes” (commonly denoted k) in a sample of size n that is drawn from a population of size N, which contains exactly K objects with that feature, without replacement."
   ]
  },
  {
   "cell_type": "markdown",
   "metadata": {},
   "source": [
    "https://en.wikipedia.org/wiki/Hypergeometric_distribution"
   ]
  },
  {
   "cell_type": "markdown",
   "metadata": {},
   "source": []
  },
  {
   "cell_type": "markdown",
   "metadata": {},
   "source": []
  },
  {
   "cell_type": "markdown",
   "metadata": {},
   "source": []
  },
  {
   "cell_type": "markdown",
   "metadata": {},
   "source": []
  },
  {
   "cell_type": "markdown",
   "metadata": {},
   "source": []
  },
  {
   "cell_type": "markdown",
   "metadata": {},
   "source": []
  },
  {
   "cell_type": "markdown",
   "metadata": {},
   "source": []
  },
  {
   "cell_type": "markdown",
   "metadata": {},
   "source": []
  },
  {
   "cell_type": "markdown",
   "metadata": {},
   "source": []
  },
  {
   "cell_type": "markdown",
   "metadata": {},
   "source": []
  },
  {
   "cell_type": "markdown",
   "metadata": {},
   "source": []
  },
  {
   "cell_type": "markdown",
   "metadata": {},
   "source": []
  },
  {
   "cell_type": "markdown",
   "metadata": {},
   "source": []
  },
  {
   "cell_type": "markdown",
   "metadata": {},
   "source": []
  },
  {
   "cell_type": "markdown",
   "metadata": {},
   "source": [
    "Standard Error\n",
    "$$SE(\\bar{X_n})=\\frac{\\sigma}{\\sqrt{n}}$$\n",
    "As your sample size increases, the standard error decreases. Intuitively, the larger your sample size, the more precise your estimates will be."
   ]
  },
  {
   "cell_type": "markdown",
   "metadata": {},
   "source": [
    "#### Confidence Interval\n",
    "The confidence level of your confidence interval is whatever you want it to be. It represents your desired \"degree of confidence\". Another way of saying this is if we compute the interval in repeated samples, then  𝛼-percent of the time, the interval will bracket the true mean. Note that the interval is random by virtue of random sampling; but the true mean is fixed.\n",
    "\n",
    "Just like standard errors, CIs are just another way to represent the same information about the tightness of the distribution of the estimator. So the larger your sample size, the smaller your standard errors, and so the tighter the distribution of the estimator, and the narrower your interval. Similarly, the smaller your sample size, the larger your standard errors, and so the more dispersed the distribution of your estimator, and the wider your interval.\n",
    "\n",
    "The bounds on the confidence interval you obtain are random variables since your sample is random and your interval is obtained by evaluating some function at your particular realization."
   ]
  },
  {
   "cell_type": "markdown",
   "metadata": {},
   "source": [
    "Chi Squared Distribution\n",
    "\n"
   ]
  },
  {
   "cell_type": "markdown",
   "metadata": {},
   "source": []
  },
  {
   "cell_type": "markdown",
   "metadata": {},
   "source": []
  },
  {
   "cell_type": "markdown",
   "metadata": {},
   "source": []
  },
  {
   "cell_type": "markdown",
   "metadata": {},
   "source": []
  },
  {
   "cell_type": "markdown",
   "metadata": {},
   "source": []
  },
  {
   "cell_type": "markdown",
   "metadata": {},
   "source": []
  }
 ],
 "metadata": {
  "kernelspec": {
   "display_name": "Python 3",
   "language": "python",
   "name": "python3"
  },
  "language_info": {
   "codemirror_mode": {
    "name": "ipython",
    "version": 3
   },
   "file_extension": ".py",
   "mimetype": "text/x-python",
   "name": "python",
   "nbconvert_exporter": "python",
   "pygments_lexer": "ipython3",
   "version": "3.7.4"
  }
 },
 "nbformat": 4,
 "nbformat_minor": 4
}
