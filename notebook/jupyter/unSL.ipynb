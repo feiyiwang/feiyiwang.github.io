{
 "cells": [
  {
   "cell_type": "markdown",
   "metadata": {},
   "source": [
    "# Unsupervised Learning<br><br>"
   ]
  },
  {
   "cell_type": "code",
   "execution_count": null,
   "metadata": {},
   "outputs": [],
   "source": []
  },
  {
   "cell_type": "markdown",
   "metadata": {},
   "source": [
    "<br><br>\n",
    "### Partition Definition:"
   ]
  },
  {
   "cell_type": "markdown",
   "metadata": {},
   "source": [
    "A <b>partition</b> of a set is a grouping of the set's elements into non-empty subsets, in such a way that every element is included in one and only one of the subsets.\n",
    "$$C_1,C_2,...,C_K  \\text{ is a partition of } \\left \\{1,2,...,n\\right \\}$$ \n",
    "$$\\text{iff} \\qquad C_1 \\cup C_2 \\cup  ... \\cup C_K  = \\left \\{1,2,...,n\\right \\}$$\n",
    "$$\\text{and} \\quad C_i \\cap C_j = \\varnothing \\quad \\forall i\\neq j i,\\quad j \\in \\left \\{1,2,...,n\\right \\}$$\n",
    "$$\\therefore \\text{a partition can be} \\left \\{1\\right \\}, \\left \\{3\\right \\},\\left \\{2\\right \\}; \\quad   \\left \\{1\\right \\}, \\left \\{3, 2\\right \\}; \\quad or  \\left \\{3, 1, 2\\right \\} \\text{ for set } \\left \\{1, 2, 3\\right \\}.$$\n"
   ]
  },
  {
   "cell_type": "markdown",
   "metadata": {},
   "source": [
    "### Clustering Definition:"
   ]
  },
  {
   "cell_type": "markdown",
   "metadata": {},
   "source": [
    "While classification takes the training set $S_n = \\left \\{ x^{(i)}, y^{(i)} | i = 1,2,...,n \\right \\}$ and a number of classes K as inputs, \n",
    "clustering's inputs are the training set $S_n = \\left \\{ x^{(i)} | i = 1,2,...,n \\right \\}$ and a number of clusters K.\n",
    "\n",
    "The outputs of clustering are a partition of indices $\\left \\{ 1,2,...,n \\right \\}$ into K sets, $C_1, C_2, ..., C_K$ and \"representatives\" in each of the K partition sets, given as $z_1, z_2, ..., z_K$."
   ]
  },
  {
   "cell_type": "markdown",
   "metadata": {},
   "source": [
    "### Cost Definition:"
   ]
  },
  {
   "cell_type": "markdown",
   "metadata": {},
   "source": [
    "A good method for deciding which clustering output is more preferable is to define a measure of homogeneity inside cluster assignments and compare the measure of each scenario.\n",
    "$$Cost(C_1, C_2, ... , C_K) = \\sum_{j=1}^{K}Cost(C_j)$$\n",
    "\n",
    "Ways to measure \"how homogeneous\" the assigned data are inside the  𝑗 th cluster $C_j ,\\quad Cost(C_j)$ :\n",
    "\n",
    "1. The average distance between points inside a cluster\n",
    "\n",
    "2. The sum of distance between the representative and all points inside a cluster\n",
    "\n",
    "Similarity Measure:\n",
    "\n",
    "- Euclidian distance: if the length of a vector needs to take into consideration.\n",
    "- Cosine distance\n",
    "\n",
    "3. The diameter of a cluster: \n",
    "a measure of how far the two farthest points in a cluster are located."
   ]
  },
  {
   "cell_type": "markdown",
   "metadata": {},
   "source": [
    "### Example"
   ]
  },
  {
   "cell_type": "markdown",
   "metadata": {},
   "source": [
    "𝑥1=(−1,2),  𝑥2=(−2,1),  𝑥3=(−1,0),  𝑧1=(−1,1) \t \t \n",
    "𝑥4=(2,1), 𝑥5=(3,2), 𝑧2=(2,2) "
   ]
  },
  {
   "cell_type": "markdown",
   "metadata": {},
   "source": [
    "The cost of a clustering output is given by the sum of the squared euclidean distance of all points in a cluster with the representative for each of its cluster.\n",
    "$$Cost(C_1, C_2, ... , C_K) = \\sum_{j=1}^{K}Cost(C_j)=\\sum_{j=1}^{K}\\sum_{i\\in C_j}\\left \\| z_j-x_i \\right \\|^2=5$$"
   ]
  },
  {
   "cell_type": "markdown",
   "metadata": {},
   "source": [
    "<br><br>\n",
    "# <span style=\"color:green\">K-Means Algorithm </span>"
   ]
  },
  {
   "cell_type": "markdown",
   "metadata": {},
   "source": [
    "1. Randomly select  𝑧1,...,𝑧𝐾 \n",
    "\n",
    "2. Iterate\n",
    "    1. Given  $z_1, ... , z_K$ , assign each data point  𝑥(𝑖)  to the closest  𝑧𝑗 , so that $$Cost(z_1,  ... , z_K) =\\sum_{i=1}^{n}\\underset{j=1,...,K}{min}\\left \\| z_j-x^{(i)} \\right \\|^2$$\n",
    "    \n",
    "    2. Given  $C_1, ... , C_K$  find the best representatives  $z_1, ... , z_K$ , i.e. find  $z_1, ... , z_K$  such that\n",
    "$$z_j =argmin_z\\sum_{i\\in C_j}\\left \\| z-x^{(i)} \\right \\|^2$$ \n"
   ]
  },
  {
   "cell_type": "code",
   "execution_count": null,
   "metadata": {},
   "outputs": [],
   "source": []
  }
 ],
 "metadata": {
  "kernelspec": {
   "display_name": "Python 3",
   "language": "python",
   "name": "python3"
  },
  "language_info": {
   "codemirror_mode": {
    "name": "ipython",
    "version": 3
   },
   "file_extension": ".py",
   "mimetype": "text/x-python",
   "name": "python",
   "nbconvert_exporter": "python",
   "pygments_lexer": "ipython3",
   "version": "3.7.4"
  }
 },
 "nbformat": 4,
 "nbformat_minor": 4
}
