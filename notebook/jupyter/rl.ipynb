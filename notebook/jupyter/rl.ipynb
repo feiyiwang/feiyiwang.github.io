{
 "cells": [
  {
   "cell_type": "markdown",
   "metadata": {},
   "source": [
    "# Reinforcement Learning"
   ]
  },
  {
   "cell_type": "markdown",
   "metadata": {},
   "source": [
    "# <span style=\"color:green\">Markov decision process (MDP)</span>"
   ]
  },
  {
   "cell_type": "markdown",
   "metadata": {},
   "source": [
    "### Defination  MDP = <S, A, D, R>\n",
    "- a set of states  $s \\in S$ ;\n",
    "- a set of actions  $a \\in A$ ;\n",
    "- Action dependent transition probabilities  $T(s,a,s')=P(s'|s,a)$ , so that for each state  𝑠  and action  𝑎 ,  $\\sum_{s' \\in S}T(s,a,s') = 1$ .\n",
    "- Reward functions  $R(s,a,s')$,  representing the reward for starting in state  𝑠 , taking action  𝑎  and ending up in state  𝑠′  after one step. (The reward function may also depend only on  𝑠 , or only  𝑠  and  𝑎 .)\n",
    "\n"
   ]
  },
  {
   "cell_type": "markdown",
   "metadata": {},
   "source": [
    "MDPs satisfy the Markov property in that the transition probabilities and rewards depend only on the current state and action, and remain unchanged regardless of the history (i.e. past states and actions) that leads to the current state."
   ]
  },
  {
   "cell_type": "markdown",
   "metadata": {},
   "source": []
  },
  {
   "cell_type": "markdown",
   "metadata": {},
   "source": []
  },
  {
   "cell_type": "markdown",
   "metadata": {},
   "source": [
    "### Gaussian Distribution\n",
    "$$P(x|\\mu,\\sigma^2) = \\frac{1}{(2\\pi \\sigma)^{d/2}}e^{-\\frac{1}{2\\sigma^2}\\left \\| x-\\mu \\right \\|^2}  , \\quad x \\in \\mathbb{R}^d$$"
   ]
  },
  {
   "cell_type": "markdown",
   "metadata": {},
   "source": [
    "### Gaussian Distribution\n",
    "$$P(x|\\mu,\\sigma^2) = \\frac{1}{(2\\pi \\sigma)^{d/2}}e^{-\\frac{1}{2\\sigma^2}\\left \\| x-\\mu \\right \\|^2}  , \\quad x \\in \\mathbb{R}^d$$"
   ]
  },
  {
   "cell_type": "markdown",
   "metadata": {},
   "source": [
    "### Gaussian Distribution\n",
    "$$P(x|\\mu,\\sigma^2) = \\frac{1}{(2\\pi \\sigma)^{d/2}}e^{-\\frac{1}{2\\sigma^2}\\left \\| x-\\mu \\right \\|^2}  , \\quad x \\in \\mathbb{R}^d$$"
   ]
  }
 ],
 "metadata": {
  "kernelspec": {
   "display_name": "Python 3",
   "language": "python",
   "name": "python3"
  },
  "language_info": {
   "codemirror_mode": {
    "name": "ipython",
    "version": 3
   },
   "file_extension": ".py",
   "mimetype": "text/x-python",
   "name": "python",
   "nbconvert_exporter": "python",
   "pygments_lexer": "ipython3",
   "version": "3.7.4"
  }
 },
 "nbformat": 4,
 "nbformat_minor": 4
}
