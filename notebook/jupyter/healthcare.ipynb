{
 "cells": [
  {
   "cell_type": "markdown",
   "metadata": {},
   "source": []
  },
  {
   "cell_type": "markdown",
   "metadata": {},
   "source": [
    "\n"
   ]
  },
  {
   "cell_type": "markdown",
   "metadata": {},
   "source": [
    "### Chemotherapy\n",
    "- Any drug used to treat cancer (including TKIs) can be considered chemo, but chemo is used to mean treatment with conventional cytotoxic (cell-killing) drugs that mainly kill cells that are growing and dividing rapidly.These drugs enter the bloodstream and reach all areas of the body, making this type of treatment useful for cancers that spread throughout the body. They can be injected into a vein or taken by mouth. \n",
    "\n",
    "### 2 main types of stem cell transplants (SCT)\n",
    "- For an autologous transplant, the patient’s own stem cells are collected from the blood or bone marrow and then given back after treatment. \n",
    "- In an allogeneic transplant, the stem cells come from someone else (a donor). To lower the chance of complications, the donor needs to “match” the patient's tissue type. Often, a close relative, like a brother or sister is a good match. Less often, a matched unrelated donor may be found.\n",
    "\n",
    "### Radiation therapy \n",
    "- a treatment with high-energy rays or particles to destroy cancer cells.\n",
    "- The main short-term side effects of radiation therapy depend on what part of the body is treated."
   ]
  },
  {
   "cell_type": "markdown",
   "metadata": {},
   "source": [
    "### Immunotherapy (IMT)\n",
    "1. Immune checkpoint inhibitors\n",
    "- Drugs that block immune checkpoints. These checkpoints are a normal part of the immune system and keep immune responses from being too strong. By blocking them, these drugs allow immune cells to respond more strongly to cancer.\n",
    "\n",
    "2. T-cell transfer therapy / Adoptive cell therapy\n",
    "- a treatment that boosts the natural ability of your T cells to fight cancer. In this treatment, immune cells are taken from your tumor. Those that are most active against your cancer are selected or changed in the lab to better attack your cancer cells, grown in large batches, and put back into your body through a needle in a vein.\n",
    "- CAR T-cell therapy： chimeric antigen receptors (CARs)\n",
    "\n",
    "3. Monoclonal antibodies (Mab) \n",
    "- immune system proteins created in the lab that are designed to bind to specific targets on cancer cells. Some monoclonal antibodies mark cancer cells so that they will be better seen and destroyed by the immune system. \n",
    "- anti-drug anti-body\n",
    "\n",
    "<img src='bio/Monoclonals.png' width='300'><img src='bio/ig-antibody-structure.png' width='400'>\n",
    "\n",
    "4. Treatment vaccines\n",
    "- work against cancer by boosting your immune system’s response to cancer cells. Treatment vaccines are different from the ones that help prevent disease.\n",
    "\n",
    "5. Immune system modulators\n",
    "- enhance the body’s immune response against cancer. Some of these agents affect specific parts of the immune system, whereas others affect the immune system in a more general way.\n",
    "\n",
    "https://www.cancer.gov/about-cancer/treatment/types/immunotherapy"
   ]
  },
  {
   "cell_type": "markdown",
   "metadata": {},
   "source": [
    "#### 靶向药物的命名\n",
    "<table>\n",
    "    <caption>一个靶向药物的通用名提供了这个药物的相关信息，比如类别及靶点。</caption>\n",
    "<tr>\n",
    "    <th>Type</th>\n",
    "    <th colspan=\"4\">结尾词干 (化合物种类)</th>\n",
    "</tr>\n",
    "<tr>\n",
    "    <td rowspan=\"4\">单克隆抗体药物</td>\n",
    "    <td rowspan=\"4\">“-mab”(monoclonal antibody)</td>\n",
    "    <td>鼠-人嵌合型单克隆抗体 chimeric</td><td>“-ximab”</td>\n",
    "    \n",
    "</tr>\n",
    "    <tr><td>人源化单克隆抗体 humanized</td><td>“-zumab”</td></tr>\n",
    "    <tr><td>全人单克隆抗体 human</td><td>“-mumab”</td></tr>\n",
    "    <tr><td>鼠源单克隆抗体 mouse</td><td>“-momab”</td></tr>\n",
    "<tr>\n",
    "    <td>小分子靶向药物</td>\n",
    "    <td>“-ib”(inhibitor)</td>\n",
    "</tr>\n",
    "    \n",
    "https://en.wikipedia.org/wiki/Nomenclature_of_monoclonal_antibodies\n",
    "    \n",
    "<table>\n",
    "<tr>\n",
    "    <th>Type</th>\n",
    "    <th colspan=\"2\">中间词干（靶点）</th> \n",
    "    <th>连成词尾</th>\n",
    "</tr>\n",
    "<tr>\n",
    "    <td rowspan=\"3\">单克隆抗体药物</td>\n",
    "    <td>作用于循环系统</td><td>“-ci-”</td>\n",
    "</tr>\n",
    "    <tr><td>作用于肿瘤组织</td><td>“-tu-”</td></tr>\n",
    "    <tr><td>作用于免疫系统</td><td>“-li(m)-”</td></tr>\n",
    "<tr>\n",
    "    <td rowspan=\"8\">小分子药物</td>\n",
    "    <td>酪氨酸激酶抑制剂 PTK(tyrosine kinase inhibitor,TKI)</td><td>“-tin-”</td><td>替尼 -tinib</td>\n",
    "</tr>\n",
    "    <tr><td>蛋白酶体抑制剂 CDK</td><td>“-zom-”</td><td> -ciclib</td></tr>\n",
    "    <tr><td>周期蛋白依赖性激酶抑制剂</td><td>“-cicl-”</td><td> </td></tr>\n",
    "    <tr><td>ADP核糖聚合酶抑制剂 PARP</td><td>“-par-”</td><td>帕尼 -parib</td></tr>\n",
    "    <tr><td> BRAF</td><td>“-par-”</td><td>非尼 -fenib</td></tr>\n",
    "    <tr><td> PI3K, mTOR</td><td>“-lis-”</td><td> -lisib</td></tr>\n",
    "    <tr><td> Hedgehog</td><td>“-modeg-”</td><td>德吉 -modegib</td></tr>\n",
    "    <tr><td> Aurora, PLK</td><td>“-sert-”</td><td>色替 -sertib</td></tr>"
   ]
  },
  {
   "cell_type": "markdown",
   "metadata": {},
   "source": [
    "intravenous (IV)\n"
   ]
  },
  {
   "cell_type": "markdown",
   "metadata": {},
   "source": [
    "#### Cluster of differentiation (CD) \n",
    "用来辨识那些用作免疫抗原辨识的细胞表面分子。\n",
    "A protocol used for the identification and investigation of cell surface molecules providing targets for immunophenotyping of cells.[1] In terms of physiology, CD molecules can act in numerous ways, often acting as receptors or ligands important to the cell. A signal cascade is usually initiated, altering the behavior of the cell (see cell signaling). Some CD proteins do not play a role in cell signaling, but have other functions, such as cell adhesion."
   ]
  },
  {
   "cell_type": "markdown",
   "metadata": {},
   "source": []
  },
  {
   "cell_type": "markdown",
   "metadata": {},
   "source": []
  },
  {
   "cell_type": "markdown",
   "metadata": {},
   "source": []
  },
  {
   "cell_type": "markdown",
   "metadata": {},
   "source": []
  }
 ],
 "metadata": {
  "kernelspec": {
   "display_name": "Python 3",
   "language": "python",
   "name": "python3"
  },
  "language_info": {
   "codemirror_mode": {
    "name": "ipython",
    "version": 3
   },
   "file_extension": ".py",
   "mimetype": "text/x-python",
   "name": "python",
   "nbconvert_exporter": "python",
   "pygments_lexer": "ipython3",
   "version": "3.7.4"
  }
 },
 "nbformat": 4,
 "nbformat_minor": 4
}
