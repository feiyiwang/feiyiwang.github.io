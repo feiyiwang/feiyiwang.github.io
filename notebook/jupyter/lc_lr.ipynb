{
 "cells": [
  {
   "cell_type": "code",
   "execution_count": 20,
   "metadata": {},
   "outputs": [],
   "source": [
    "import numpy as np\n",
    "import random\n",
    "import matplotlib.pyplot as plt"
   ]
  },
  {
   "cell_type": "markdown",
   "metadata": {},
   "source": [
    "# Linear Classificaion and Regression<br><br>"
   ]
  },
  {
   "cell_type": "markdown",
   "metadata": {},
   "source": [
    "# <span style=\"color:green\">Perceptron Algorithm</span>"
   ]
  },
  {
   "cell_type": "markdown",
   "metadata": {},
   "source": [
    "### Linear separation Definition：\n",
    "##### Training examples $s_n=\\left \\{ x^{(i)}, y^{(i)} , i=1,...,n\\right \\}$ are linearly seperable if there exists a parameter $\\hat{\\theta}$ and offset parameter $\\hat{\\theta_0}$ such that $y^{(i)}(\\hat{\\theta} \\cdot x^{(i)}+\\hat{\\theta}_0)>0$ for all $i=1,...,n$<br>"
   ]
  },
  {
   "cell_type": "markdown",
   "metadata": {},
   "source": [
    "### Perceptron Algorithm\n",
    "<b>Perceptron</b> $\\left ( \\left \\{ (x^{(i)},y^{(i)}),i=1,...,n \\right \\} ,T\\right ):$ <br>\n",
    "  initialize  $\\theta=0 $ (vector), $\\theta_0=0$ (scalar) ;<br>\n",
    "    for  $𝑡=1,...,𝑇$ ,<br>\n",
    "      for  $𝑖=1,...,𝑛$ ,<br>\n",
    "        if  $y^{(i)}(\\theta \\cdot x^{(i)}+\\theta_0)\\leqslant 0$ ,<Br>\n",
    "        then update  $\\theta=\\theta+y^{(i)}\\cdot x^{(i)}, \\theta_0=\\theta_0+y^{(i)} $<br>\n",
    "  return  $\\theta, \\theta_0$"
   ]
  },
  {
   "cell_type": "code",
   "execution_count": 47,
   "metadata": {},
   "outputs": [],
   "source": [
    "def get_order(n_samples):\n",
    "#     random.seed(1)\n",
    "    indices = list(range(n_samples))\n",
    "    random.shuffle(indices)\n",
    "    return indices\n",
    "    \n",
    "def perceptron(feature_matrix, labels, T):\n",
    "    \"\"\"\n",
    "    Runs T iterations through a given set of data, there is no need to worry about stopping early.\n",
    "\n",
    "    Args:\n",
    "        feature_matrix - A numpy matrix describing the given data X. \n",
    "        labels - A numpy array, correctly classified Y.\n",
    "        T - An integer indicating how many times the perceptron algorithm should iterate through the feature matrix.\n",
    "\n",
    "    Returns: A tuple of a numpy array with the value of theta and a real number with the value of theta_0\n",
    "    \"\"\"\n",
    "    theta, theta_0 = np.zeros(feature_matrix.shape[1]), 0\n",
    "    for t in range(T):\n",
    "#         for i in get_order(feature_matrix.shape[0]):\n",
    "        for i in range(feature_matrix.shape[0]):\n",
    "#         for i in [1,2,3,0,4]:\n",
    "            if labels[i] * (np.dot(theta.T, feature_matrix[i,:]) + theta_0) <= 0:\n",
    "                theta += labels[i] * feature_matrix[i,:]\n",
    "                theta_0 += labels[i]          \n",
    "    return (theta, theta_0)"
   ]
  },
  {
   "cell_type": "markdown",
   "metadata": {},
   "source": [
    "### Average Perceptron Algorithm\n",
    "$\\theta_{final}= \\frac{1}{nT}(\\theta^{(1)}+\\theta^{(2)}+...+\\theta^{(nT)})$"
   ]
  },
  {
   "cell_type": "code",
   "execution_count": 64,
   "metadata": {},
   "outputs": [],
   "source": [
    "def average_perceptron(feature_matrix, labels, T):\n",
    "    \"\"\"\n",
    "    Runs T iterations through a given set of data, there is no need to worry about stopping early.\n",
    "\n",
    "    Args:\n",
    "        feature_matrix - A numpy matrix describing the given data X. \n",
    "        labels - A numpy array, correctly classified Y.\n",
    "        T - An integer indicating how many times the perceptron algorithm should iterate through the feature matrix.\n",
    "\n",
    "    Returns: A tuple of a numpy array with the value of theta and a real number with the value of theta_0\n",
    "    \"\"\"\n",
    "    theta, theta_0 = np.zeros(feature_matrix.shape[1]),0\n",
    "    sum_theta, sum_theta_0 = np.zeros(feature_matrix.shape[1]),0\n",
    "    for t in range(T):\n",
    "        for i in get_order(feature_matrix.shape[0]):\n",
    "            if labels[i] * (np.dot(theta.T, feature_matrix[i,:]) + theta_0) <= 0:\n",
    "                theta += labels[i] * feature_matrix[i,:]\n",
    "                theta_0 += labels[i]\n",
    "            sum_theta += theta\n",
    "            sum_theta_0 += theta_0\n",
    "    return (sum_theta/T/feature_matrix.shape[0], sum_theta_0/T/feature_matrix.shape[0])"
   ]
  },
  {
   "cell_type": "code",
   "execution_count": 67,
   "metadata": {
    "jupyter": {
     "source_hidden": true
    }
   },
   "outputs": [],
   "source": [
    "def check_average_perceptron():\n",
    "    ex_name = \"Average perceptron\"\n",
    "\n",
    "    feature_matrix = np.array([[1, 2]])\n",
    "    labels = np.array([1])\n",
    "    T = 1\n",
    "    exp_res = (np.array([1, 2]), 1)\n",
    "    if check_tuple(\n",
    "            ex_name, average_perceptron,\n",
    "            exp_res, feature_matrix, labels, T):\n",
    "        return\n",
    "\n",
    "    feature_matrix = np.array([[1, 2], [-1, 0]])\n",
    "    labels = np.array([1, 1])\n",
    "    T = 1\n",
    "    exp_res = (np.array([-0.5, 1]), 1.5)\n",
    "    if check_tuple(\n",
    "            ex_name, average_perceptron,\n",
    "            exp_res, feature_matrix, labels, T):\n",
    "        return\n",
    "\n",
    "    feature_matrix = np.array([[1, 2]])\n",
    "    labels = np.array([1])\n",
    "    T = 2\n",
    "    exp_res = (np.array([1, 2]), 1)\n",
    "    if check_tuple(\n",
    "            ex_name, average_perceptron,\n",
    "            exp_res, feature_matrix, labels, T):\n",
    "        return\n",
    "\n",
    "    feature_matrix = np.array([[1, 2], [-1, 0]])\n",
    "    labels = np.array([1, 1])\n",
    "    T = 2\n",
    "    exp_res = (np.array([-0.25, 1.5]), 1.75)\n",
    "    if check_tuple(\n",
    "            ex_name, average_perceptron,\n",
    "            exp_res, feature_matrix, labels, T):\n",
    "        return\n",
    "\n",
    "    log(green(\"PASS\"), ex_name, \"\")\n",
    "def check_tuple(ex_name, f, exp_res, *args, **kwargs):\n",
    "    try:\n",
    "        res = f(*args, **kwargs)\n",
    "    except NotImplementedError:\n",
    "        log(red(\"FAIL\"), ex_name, \": not implemented\")\n",
    "        return True\n",
    "    if not type(res) == tuple:\n",
    "        log(red(\"FAIL\"), ex_name, \": does not return a tuple, type: \", type(res))\n",
    "        return True\n",
    "    if not len(res) == len(exp_res):\n",
    "        log(red(\"FAIL\"), ex_name, \": expected a tuple of size \", len(exp_res), \" but got tuple of size\", len(res))\n",
    "        return True\n",
    "    if not all(equals(x, y) for x, y in zip(res, exp_res)):\n",
    "        log(red(\"FAIL\"), ex_name, \": incorrect answer. Expected\", exp_res, \", got: \", res)\n",
    "        return True\n",
    "def equals(x, y):\n",
    "    if type(y) == np.ndarray:\n",
    "        return (x == y).all()\n",
    "    return x == y\n",
    "def log(*m):\n",
    "    print(\" \".join(map(str, m)))\n",
    "def green(s):\n",
    "    return '\\033[1;32m%s\\033[m' % s\n",
    "\n",
    "def yellow(s):\n",
    "    return '\\033[1;33m%s\\033[m' % s\n",
    "\n",
    "def red(s):\n",
    "    return '\\033[1;31m%s\\033[m' % s"
   ]
  },
  {
   "cell_type": "code",
   "execution_count": 68,
   "metadata": {},
   "outputs": [
    {
     "name": "stdout",
     "output_type": "stream",
     "text": [
      "\u001b[1;32mPASS\u001b[m Average perceptron \n"
     ]
    }
   ],
   "source": [
    "check_average_perceptron()"
   ]
  },
  {
   "cell_type": "markdown",
   "metadata": {},
   "source": [
    "### Example 1\n",
    "<b>Proof:</b> $y^{(i)}((\\theta+ y^{(i)} x^{(i)}) \\cdot x^{(i)}+\\theta_0+ y^{(i)})$&nbsp;&nbsp;&nbsp; always&nbsp;&nbsp;&nbsp; $\\geqslant y^{(i)}(\\theta \\cdot x^{(i)}+\\theta_0)$ <br><br>\n",
    "$\\because \\theta=\\theta+y^{(i)}\\cdot x^{(i)}$, &nbsp;&nbsp;&nbsp; $ \\theta_0=\\theta_0+y^{(i)} $ &nbsp;&nbsp;&nbsp;代入&nbsp;&nbsp;&nbsp; $y^{(i)}(\\theta \\cdot x^{(i)}+\\theta_0)$<br>\n",
    "$ y^{(i)}((\\theta+ y^{(i)} x^{(i)}) \\cdot x^{(i)}+\\theta_0+ y^{(i)})-y^{(i)}(\\theta \\cdot x^{(i)}+\\theta_0)=(y^{(i)})^2\\left \\| x^{(i)} \\right \\|^2+(y^{(i)})^2=(y^{(i)})^2(\\left \\| x^{(i)} \\right \\|^2+1)>0$<br>\n",
    "$\\therefore $ the first is always greater than the latter. Considering that our goal is to minimize the training error, the update always makes the training error decrease, which is desirable."
   ]
  },
  {
   "cell_type": "markdown",
   "metadata": {},
   "source": [
    "<br><br>\n",
    "# <span style=\"color:green\">Margin Boundary</span>"
   ]
  },
  {
   "cell_type": "markdown",
   "metadata": {},
   "source": [
    "### Example 1 Distance from a Line to a Point\n",
    "Let the point  𝑃  be the endpoint of a vector  $x_0$  (so the coordinates of  𝑃  equal the components of  $x_0$ ). What is the the shortest distance  𝑑  between the line  𝐿  and the point  𝑃 ? <br>\n",
    "<img width=\"200\" src=\"https://feiyiwang.github.io/notebook/jupyter/img/images_lec3_distancelinepoint.svg\"><Br>\n",
    "<b>Solution:</b> If there is no offset  $\\theta_0$ , The distance  𝑑  is the projection from  $x_0$  to  𝜃 , which is  $\\frac{ \\left | x_0 \\cdot \\theta \\right | }{ \\left \\| \\theta \\right \\|}$ (definition of projection). Thus, with the offset  $\\theta_0$  added,  𝑑  is  $\\frac{ \\left | x_0 \\cdot \\theta + \\theta_0 \\right | }{ \\left \\| \\theta \\right \\|} $.  "
   ]
  },
  {
   "cell_type": "markdown",
   "metadata": {},
   "source": [
    "In other words, in a 2 dimensional space, a line  𝐿  is given by  𝐿:𝑎𝑥+𝑏𝑦+𝑐=0 , and a point  𝑃  is given by  𝑃=(𝑥0,𝑦0) .  The shortest distance between  𝐿  and  𝑃 is $\\frac{a \\cdot x_0+b \\cdot y_0+c}{\\sqrt{a^2+b^2}}$"
   ]
  },
  {
   "cell_type": "markdown",
   "metadata": {},
   "source": [
    "The <font color='blue'>decision boundary</font> is the set of points  𝑥  which satisfy $\\theta \\cdot x+\\theta_0=0$ <br>\n",
    "The <font color='blue'>Margin Boundary</font> is the set of points  𝑥  which satisfy $\\theta \\cdot x+\\theta_0= \\pm 1$<br>\n",
    "$\\therefore$ the distance <font color='blue'>d</font> from the decision boundary to the margin boundary is  $\\frac{ 1 }{ \\left \\| \\theta \\right \\|} $ ."
   ]
  },
  {
   "cell_type": "markdown",
   "metadata": {},
   "source": [
    "<br><br>\n",
    "# <span style=\"color:green\">Hinge Loss, Regularization and Objective Function</span>"
   ]
  },
  {
   "cell_type": "markdown",
   "metadata": {},
   "source": [
    "Our regularization goal is to maximize the distance &nbsp;&nbsp;&nbsp; $\\gamma(\\theta,\\theta_0)=\\frac{y^{(i)}(\\theta \\cdot x^{(i)}+ \\theta_0)}{\\left \\| \\theta \\right \\|}=\\frac{1}{\\left \\| \\theta \\right \\|}$<br>\n",
    "<img width=\"400\" src=\"img/3.1.png\"><img width=\"400\" src=\"img/3.2.png\">"
   ]
  },
  {
   "cell_type": "markdown",
   "metadata": {},
   "source": [
    "1. <b>Hinge Loss:</b> $Loss_h(z)=\\begin{cases} 0 & \\text{ if } z \\geqslant 1 \\\\ 1-z & \\text{ if } z<1 \\end{cases}$  where  $z = y^{(i)}(\\theta \\cdot x^{(i)}+ \\theta_0)$\n",
    "\n",
    "2. <b>Regularization:</b> towards max margin <br>\n",
    "max = $\\frac{ 1 }{ \\left \\| \\theta \\right \\|} $ &nbsp;&nbsp;&nbsp; min = $\\frac{ 1 }{2}\\left \\| \\theta \\right \\|^2 $\n",
    "\n",
    "3. <b>Objective:</b> $J(\\theta,\\theta_0)={\\color{red} {\\frac{1}{n}\\sum_{i=1}^{n}(y^{(i)}Loss_h(\\theta \\cdot x^{(i)}+ \\theta_0))}}+{\\color{blue} {\\frac{\\lambda}{2}\\left \\| \\theta \\right \\|^2}}$<br>\n",
    "<span style=\"color:red\">Loss:</span> Each hinge loss measures how much that example violates the defined margin boundary.<br>\n",
    "<span style=\"color:blue\">Reg:</span> Reg term tries to push the margin boundary further and further<br>"
   ]
  },
  {
   "cell_type": "markdown",
   "metadata": {},
   "source": [
    "$\\lambda$ is regularization parameter. <BR>\n",
    "- Large $\\lambda$ - prefer large margin solution but potentially at a cost of incurring some further loss as margin boundary push past the examples\n",
    "- Small $\\lambda$ - in favor of accurately putting our examples outside the margin boundary at a cost of keeping the margin boundary closer to the decision boundary<br>\n",
    "<img width='400' src='img/4.1.png'><img width='400' src='img/4.2.png'><img width='400' src='img/4.3.png'>"
   ]
  },
  {
   "cell_type": "markdown",
   "metadata": {},
   "source": [
    "### Summary\n",
    "1. <b>General optimization formulation of learning</b> &nbsp;&nbsp;&nbsp; objective function = average loss + regularization\n",
    "2. <b>Large margin linear classification as optimization</b> &nbsp;&nbsp;&nbsp; margin boundaries, hinge loss, regularization<br>\n",
    "$J(\\theta, \\theta_0)=\\frac{1}{n}\\sum_{i=1}^{n}Loss_n(y^{(i)}(\\theta \\cdot x^{(i)}+\\theta_0))+\\frac{\\lambda}{2}\\left \\| \\theta \\right \\|^2$<br><br>\n",
    "Loss / error<br>\n",
    "simple<img width='500' src='img/var_bias.png'>complex"
   ]
  },
  {
   "cell_type": "markdown",
   "metadata": {},
   "source": [
    "If the training loss is low and the validation loss is high, the model might be overfitting.<br>\n",
    "If the training loss is high and the validation loss is low, the model might be underfitting."
   ]
  },
  {
   "cell_type": "code",
   "execution_count": null,
   "metadata": {},
   "outputs": [],
   "source": [
    "def hinge_loss(feature_matrix, labels, theta, theta_0):\n",
    "    \"\"\"\n",
    "    Finds the total hinge loss on a set of data given specific classification parameters.\n",
    "\n",
    "    Args:\n",
    "        feature_matrix - A numpy matrix describing the given data X. \n",
    "        labels - A numpy array, correctly classified Y.\n",
    "        theta - A numpy array describing the linear classifier.\n",
    "        theta_0 - A real valued number representing the offset parameter.\n",
    "\n",
    "    Returns: A real number representing the average hinge loss across all of the points in the feature matrix.\n",
    "    \"\"\"\n",
    "    y_vector = np.dot(feature_matrix, theta.T) + theta_0\n",
    "    loss = np.maximum(np.zeros(len(labels)), 1-y_vector*labels)\n",
    "    return np.mean(loss)"
   ]
  },
  {
   "cell_type": "markdown",
   "metadata": {},
   "source": [
    "<br><br>\n",
    "# <span style=\"color:green\">Pegasos Algorithm</span>"
   ]
  },
  {
   "cell_type": "markdown",
   "metadata": {},
   "source": [
    "<b>Pegasos update rule</b> ($x^{(i)}$, $y^{(i)}$, 𝜆, 𝜂, 𝜃): <br>\n",
    "if  $y^{(i)}$(𝜃⋅$x^{(i)}$) ≤ 1  then<br>\n",
    "  update  𝜃 = (1 − 𝜂𝜆) 𝜃 + 𝜂$y^{(i)}x^{(i)}$  \n",
    "else: <br>\n",
    "  update  𝜃 = (1 − 𝜂𝜆) 𝜃  \n",
    "\n",
    "The  𝜂  parameter is a decaying factor that will decrease over time. The  𝜆  parameter is a regularizing parameter."
   ]
  },
  {
   "cell_type": "code",
   "execution_count": 63,
   "metadata": {},
   "outputs": [],
   "source": [
    "def pegasos(feature_matrix, labels, T, L):\n",
    "    \"\"\"\n",
    "    Runs T iterations through a given set of data, there is no need to worry about stopping early.\n",
    "\n",
    "    For each update, set learning rate = 1/sqrt(t), where t is a counter for the number of updates \n",
    "    performed so far (between 1 and nT inclusive).\n",
    "\n",
    "    Args:\n",
    "        feature_matrix - A numpy matrix describing the given data X. \n",
    "        labels - A numpy array, correctly classified Y.\n",
    "        T - An integer indicating how many times the algorithm should iterate through the feature matrix.\n",
    "        L - The lamba value being used to update the Pegasos algorithm parameters.\n",
    "\n",
    "    Returns: A tuple of a numpy array with the value of theta and a real number with the value of theta_0\n",
    "    \"\"\"\n",
    "    theta, theta_0 = np.zeros(feature_matrix.shape[1]), 0\n",
    "    count = 0\n",
    "    for t in range(T):\n",
    "        for i in get_order(feature_matrix.shape[0]):\n",
    "            count += 1\n",
    "            eta = 1.0/np.sqrt(count)\n",
    "            \n",
    "            y = np.dot(feature_matrix[i], theta.T) + theta_0\n",
    "            if labels[i] * y <= 1:\n",
    "                theta = (1 - eta*L)*theta + eta*labels[i]*feature_matrix[i]\n",
    "                theta_0 += eta * labels[i]\n",
    "            else:\n",
    "                theta = (1 - eta*L)*theta\n",
    "    return (theta, theta_0)"
   ]
  },
  {
   "cell_type": "markdown",
   "metadata": {},
   "source": [
    "<br><br>\n",
    "# <span style=\"color:green\">Optimization Algorithm</span>"
   ]
  },
  {
   "cell_type": "markdown",
   "metadata": {},
   "source": [
    "Our goal is to maximize the distance &nbsp;&nbsp;&nbsp; $\\gamma(\\theta,\\theta_0)=\\frac{y^{(i)}(\\theta \\cdot x^{(i)}+ \\theta_0)}{\\left \\| \\theta \\right \\|}=\\frac{1}{\\left \\| \\theta \\right \\|}$ <br>and minimize the cost function &nbsp;&nbsp;&nbsp; $J(\\theta, \\theta_0)=\\frac{1}{n}\\sum_{i=1}^{n}Loss_n(y^{(i)}(\\theta \\cdot x^{(i)}+\\theta_0))+\\frac{\\lambda}{2}\\left \\| \\theta \\right \\|^2$ &nbsp;&nbsp;&nbsp; through gradient descent. So we will<br>\n",
    " 1. Start  𝜃  at an arbitrary location:  𝜃←𝜃𝑠𝑡𝑎𝑟𝑡 \n",
    " 2. Update  𝜃  repeatedly with  $\\theta = \\theta - \\eta \\frac{\\partial J(\\theta, \\theta_0)}{\\partial\\theta}$  until  𝜃  does not change significantly\n"
   ]
  },
  {
   "cell_type": "markdown",
   "metadata": {},
   "source": [
    "<img width=\"200\" src=\"https://feiyiwang.github.io/notebook/jupyter/img/images_lec4_pic3.svg\">"
   ]
  },
  {
   "cell_type": "markdown",
   "metadata": {},
   "source": [
    "### Stochastic Gradient Descent (SGD)"
   ]
  },
  {
   "cell_type": "markdown",
   "metadata": {},
   "source": [
    "$J(\\theta, \\theta_0)=\\frac{1}{n}\\sum_{i=1}^{n}Loss_n(y^{(i)}(\\theta \\cdot x^{(i)}+\\theta_0))+\\frac{\\lambda}{2}\\left \\| \\theta \\right \\|^2=\\frac{1}{n} \\left [ \\sum_{i=1}^{n}Loss_n(y^{(i)}(\\theta \\cdot x^{(i)}+\\theta_0))+\\frac{\\lambda}{2}\\left \\| \\theta \\right \\|^2\\right ] $"
   ]
  },
  {
   "cell_type": "markdown",
   "metadata": {},
   "source": [
    "Simplify&nbsp;  $=\\frac{1}{n} \\left [ \\sum_{i=1}^{n}Loss_n(y^{(i)}\\theta \\cdot x^{(i)})+\\frac{\\lambda}{2}\\left \\| \\theta \\right \\|^2\\right ] $<br>\n",
    "Select $i \\in \\left \\{ 1,...,n \\right \\}$ at random<br>\n",
    "&nbsp;&nbsp;&nbsp;&nbsp;$\\theta\\leftarrow\\theta-\\eta_t\\nabla_\\theta\\left [ Loss_h\\left ( y^{(i)}\\theta\\cdot x^{(i)}  \\right )+\\frac{\\lambda}{2}\\left \\| \\theta \\right \\|^2 \\right ]$"
   ]
  },
  {
   "cell_type": "markdown",
   "metadata": {},
   "source": [
    "### Quadratic Program - Support Vector Machine\n",
    "- Support Vector Machine finds the maximum margin linear separator by solving the quadratic program that corresponds to $J(\\theta, \\theta_0)$\n",
    "- In the realizable case, if we disallow any margin violations, the quadratic program we have to solve is<br>\n",
    "Find $\\theta, \\theta_0$ that minimize $\\frac{1}{2}\\left \\| \\theta \\right \\|^2$ subject to $y^{(i)}(\\theta \\cdot x^{(i)} +\\theta_0)\\geqslant 1$ where $i = 1,...,n$"
   ]
  },
  {
   "cell_type": "markdown",
   "metadata": {},
   "source": [
    "### Summary\n",
    "1. Learning problems can be formulated as optimization problems of the form: loss + regularization\n",
    "2. Linear, large margin classification, along with many other learning problems, can be solved with stochastic gradient descent algorithms\n",
    "3. Large margin linear classifier can be also obtained via solving a quadratic program (Support Vector Machine)"
   ]
  },
  {
   "cell_type": "markdown",
   "metadata": {},
   "source": [
    "<br><br>\n",
    "# <font color='green'>Kernel</font>"
   ]
  },
  {
   "cell_type": "markdown",
   "metadata": {},
   "source": [
    "Computing the inner product between two feature vectors can be cheap even if the vectors are very high dimensional.\n",
    "This type of dot function of two feature vectors/examples is a kernel function."
   ]
  },
  {
   "cell_type": "markdown",
   "metadata": {},
   "source": [
    "### Example 1"
   ]
  },
  {
   "cell_type": "markdown",
   "metadata": {},
   "source": [
    "Assume we map $x$  and  $x'∈ℝ^2$  to feature vectors  𝜙(𝑥)  and  𝜙(𝑥′)  given by <br>\n",
    "$\\phi(x)=[{\\color{red} {x_1,x_2}},{\\color{blue} {{x_1}^2,\\sqrt{2}x_1x_2,{x_2}^2}}]$<br>\n",
    "$\\phi(x')=[{\\color{red} {x_1',x_2'}},{\\color{blue} {{x_1'}^2,\\sqrt{2}x_1'x_2',{x_2'}^2}}]$<br>\n",
    "$\\therefore$ &nbsp;&nbsp;&nbsp; a kernel &nbsp;&nbsp;&nbsp;   $K\\left \\langle x,x' \\right \\rangle=\\phi(x) \\cdot \\phi(x')={\\color{red} {(x\\cdot x')}}+{\\color{blue} {(x\\cdot x')^2}}$<br>"
   ]
  },
  {
   "cell_type": "markdown",
   "metadata": {},
   "source": [
    "### Example 2"
   ]
  },
  {
   "cell_type": "markdown",
   "metadata": {},
   "source": [
    "If&nbsp;&nbsp;&nbsp;  $K\\left \\langle x,x' \\right \\rangle=\\phi(x)\\cdot\\phi(x')={\\color{red} {x_1x_1'}}+{\\color{blue} {x_2x_2'+x_2x_3'+x_3x_2'+x_3x_3'}}$<br>\n",
    "then &nbsp;&nbsp;&nbsp; $\\phi(x)=[{\\color{red} {x_1}},{\\color{blue} {x_2+x_3}}]$ &nbsp;&nbsp;&nbsp; $\\phi(x')=[{\\color{red} {x_1'}},{\\color{blue} {x_2'+x_3'}}]$"
   ]
  },
  {
   "cell_type": "code",
   "execution_count": 7,
   "metadata": {},
   "outputs": [
    {
     "data": {
      "text/plain": [
       "<matplotlib.collections.PathCollection at 0x10f18acd0>"
      ]
     },
     "execution_count": 7,
     "metadata": {},
     "output_type": "execute_result"
    },
    {
     "data": {
      "image/png": "[encoded data removed]",
      "text/plain": [
       "<Figure size 432x288 with 1 Axes>"
      ]
     },
     "metadata": {
      "needs_background": "light"
     },
     "output_type": "display_data"
    }
   ],
   "source": [
    "plt.scatter(-1, 1, c='red')\n",
    "plt.scatter(1, -1, c='red')\n",
    "plt.scatter(1, 1, c='blue')\n",
    "plt.scatter(2, 2, c='blue')"
   ]
  },
  {
   "cell_type": "code",
   "execution_count": null,
   "metadata": {},
   "outputs": [],
   "source": []
  },
  {
   "cell_type": "code",
   "execution_count": null,
   "metadata": {},
   "outputs": [],
   "source": []
  },
  {
   "cell_type": "code",
   "execution_count": null,
   "metadata": {},
   "outputs": [],
   "source": []
  },
  {
   "cell_type": "markdown",
   "metadata": {},
   "source": [
    "Gaussian RBF Kernel:  $K\\left \\langle x,x' \\right \\rangle = e^{-\\frac{1}{2\\sigma}\\left \\| x-x' \\right \\|^2}$"
   ]
  },
  {
   "cell_type": "markdown",
   "metadata": {},
   "source": []
  },
  {
   "cell_type": "code",
   "execution_count": 74,
   "metadata": {},
   "outputs": [],
   "source": [
    "labels, xs, ys = np.loadtxt('toy_data.tsv', delimiter='\\t', unpack=True)\n",
    "X, Y = np.vstack((xs, ys)).T, labels"
   ]
  },
  {
   "cell_type": "code",
   "execution_count": 78,
   "metadata": {},
   "outputs": [],
   "source": [
    "T = 100\n",
    "L = 0.2\n",
    "\n",
    "thetas_perceptron = perceptron(X, Y, T)\n",
    "thetas_avg_perceptron = average_perceptron(X, Y, T)\n",
    "thetas_pegasos = pegasos(X, Y, T, L)"
   ]
  },
  {
   "cell_type": "code",
   "execution_count": 84,
   "metadata": {},
   "outputs": [],
   "source": [
    "def classify(feature_matrix, theta, theta_0):\n",
    "    \"\"\"\n",
    "    A classification function that uses theta and theta_0 to classify a set of data points.\n",
    "\n",
    "    Returns: A numpy array of 1s and -1s.\n",
    "    \"\"\"\n",
    "    y = np.dot(feature_matrix, theta.T) + theta_0\n",
    "    return np.array([1 if i > 1e-7 else -1 for i in y])\n",
    "\n",
    "def accuracy(preds, targets):\n",
    "    \"\"\"\n",
    "    Given length-N vectors containing predicted and target labels,\n",
    "    returns the percentage and number of correct predictions.\n",
    "    \"\"\"\n",
    "    return (preds == targets).mean()"
   ]
  },
  {
   "cell_type": "code",
   "execution_count": 87,
   "metadata": {},
   "outputs": [],
   "source": [
    "def plot_results(algo_name, thetas):\n",
    "    print('theta for', algo_name, 'is', ', '.join(map(str,list(thetas[0]))))\n",
    "    print('theta_0 for', algo_name, 'is', str(thetas[1]))\n",
    "    pred = classify(X, thetas[0], thetas[1])\n",
    "    accuracy_ = accuracy(pred, Y)\n",
    "    print('accuracy for', algo_name, 'is', str(accuracy_))\n",
    "    \n",
    "    def plot_toy_data(algo_name, features, labels, thetas):\n",
    "        \"\"\"\n",
    "        Plots the toy data in 2D.\n",
    "        Arguments:\n",
    "        * features - an Nx2 ndarray of features (points)\n",
    "        * labels - a length-N vector of +1/-1 labels\n",
    "        * thetas - the tuple (theta, theta_0) that is the output of the learning algorithm\n",
    "        * algorithm - the string name of the learning algorithm used\n",
    "        \"\"\"\n",
    "        # plot the points with labels represented as colors\n",
    "        plt.subplots()\n",
    "        colors = ['b' if label == 1 else 'r' for label in labels]\n",
    "        plt.scatter(features[:, 0], features[:, 1], s=40, c=colors)\n",
    "        xmin, xmax = plt.axis()[:2]\n",
    "\n",
    "        # plot the decision boundary\n",
    "        theta, theta_0 = thetas\n",
    "        xs = np.linspace(xmin, xmax)\n",
    "        ys = -(theta[0]*xs + theta_0) / (theta[1] + 1e-16)\n",
    "        plt.plot(xs, ys, 'k-')\n",
    "\n",
    "        # show the plot\n",
    "        algo_name = ' '.join((word.capitalize() for word in algo_name.split(' ')))\n",
    "        plt.suptitle('Classified Toy Data ({})'.format(algo_name))\n",
    "        plt.show()\n",
    "        \n",
    "    plot_toy_data(algo_name, X, Y, thetas)"
   ]
  },
  {
   "cell_type": "code",
   "execution_count": 88,
   "metadata": {},
   "outputs": [
    {
     "name": "stdout",
     "output_type": "stream",
     "text": [
      "theta for Perceptron is 4.176099999999991, 2.257399999999976\n",
      "theta_0 for Perceptron is -1.0\n",
      "accuracy for Perceptron is 0.785\n"
     ]
    },
    {
     "data": {
      "image/png": "[encoded data removed]",
      "text/plain": [
       "<Figure size 432x288 with 1 Axes>"
      ]
     },
     "metadata": {
      "needs_background": "light"
     },
     "output_type": "display_data"
    },
    {
     "name": "stdout",
     "output_type": "stream",
     "text": [
      "theta for Average Perceptron is 2.5869705349999608, 2.789286550000017\n",
      "theta_0 for Average Perceptron is -4.99255\n",
      "accuracy for Average Perceptron is 0.915\n"
     ]
    },
    {
     "data": {
      "image/png": "[encoded data removed]",
      "text/plain": [
       "<Figure size 432x288 with 1 Axes>"
      ]
     },
     "metadata": {
      "needs_background": "light"
     },
     "output_type": "display_data"
    },
    {
     "name": "stdout",
     "output_type": "stream",
     "text": [
      "theta for Pegasos is 0.6353739128078978, 0.6476111025126345\n",
      "theta_0 for Pegasos is -1.1986024478548203\n",
      "accuracy for Pegasos is 0.92\n"
     ]
    },
    {
     "data": {
      "image/png": "[encoded data removed]",
      "text/plain": [
       "<Figure size 432x288 with 1 Axes>"
      ]
     },
     "metadata": {
      "needs_background": "light"
     },
     "output_type": "display_data"
    }
   ],
   "source": [
    "plot_results('Perceptron', thetas_perceptron)\n",
    "plot_results('Average Perceptron', thetas_avg_perceptron)\n",
    "plot_results('Pegasos', thetas_pegasos)"
   ]
  },
  {
   "cell_type": "code",
   "execution_count": null,
   "metadata": {},
   "outputs": [],
   "source": []
  }
 ],
 "metadata": {
  "kernelspec": {
   "display_name": "Python 3",
   "language": "python",
   "name": "python3"
  },
  "language_info": {
   "codemirror_mode": {
    "name": "ipython",
    "version": 3
   },
   "file_extension": ".py",
   "mimetype": "text/x-python",
   "name": "python",
   "nbconvert_exporter": "python",
   "pygments_lexer": "ipython3",
   "version": "3.7.4"
  }
 },
 "nbformat": 4,
 "nbformat_minor": 4
}
