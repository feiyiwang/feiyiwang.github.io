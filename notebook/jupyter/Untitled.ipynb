{
 "cells": [
  {
   "cell_type": "code",
   "execution_count": 1,
   "metadata": {},
   "outputs": [],
   "source": [
    "import numpy as np"
   ]
  },
  {
   "cell_type": "markdown",
   "metadata": {},
   "source": [
    "### Gaussian Distribution\n",
    "$$f_X(x|\\mu,\\sigma^2) = P(x|\\mu,\\sigma^2) = \\frac{1}{(2\\pi \\sigma)^{d/2}}e^{-\\frac{1}{2\\sigma^2}\\left \\| x-\\mu \\right \\|^2}  , \\quad x \\in \\mathbb{R}^d$$"
   ]
  },
  {
   "cell_type": "markdown",
   "metadata": {},
   "source": [
    "### MLE for the Gaussian Distribution\n",
    "Let  $S_n = \\left \\{ X^{(1)},...,X^{(d)}\\right\\}$  be i.i.d. random variables following a Gaussian distribution with mean  $\\mu$  and variance  $\\sigma^2$ .\n",
    "\n",
    "https://courses.edx.org/courses/course-v1:MITx+6.86x+1T2020/courseware/unit_4/lec15_gm/?activate_block_id=block-v1%3AMITx%2B6.86x%2B1T2020%2Btype%40sequential%2Bblock%40lec15_gm"
   ]
  },
  {
   "cell_type": "code",
   "execution_count": null,
   "metadata": {},
   "outputs": [],
   "source": []
  },
  {
   "cell_type": "code",
   "execution_count": 4,
   "metadata": {},
   "outputs": [
    {
     "data": {
      "text/plain": [
       "array([0.56418958, 2.        ])"
      ]
     },
     "execution_count": 4,
     "metadata": {},
     "output_type": "execute_result"
    }
   ],
   "source": [
    "x = np.array([1/np.sqrt(np.pi),2])\n",
    "mu, sigma = [0,2], 1/np.sqrt(2*np.pi)\n"
   ]
  },
  {
   "cell_type": "code",
   "execution_count": null,
   "metadata": {},
   "outputs": [],
   "source": []
  }
 ],
 "metadata": {
  "kernelspec": {
   "display_name": "Python 3",
   "language": "python",
   "name": "python3"
  },
  "language_info": {
   "codemirror_mode": {
    "name": "ipython",
    "version": 3
   },
   "file_extension": ".py",
   "mimetype": "text/x-python",
   "name": "python",
   "nbconvert_exporter": "python",
   "pygments_lexer": "ipython3",
   "version": "3.7.4"
  }
 },
 "nbformat": 4,
 "nbformat_minor": 4
}
