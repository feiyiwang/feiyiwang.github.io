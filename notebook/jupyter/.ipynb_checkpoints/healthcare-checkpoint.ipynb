{
 "cells": [
  {
   "cell_type": "markdown",
   "metadata": {},
   "source": []
  },
  {
   "cell_type": "markdown",
   "metadata": {},
   "source": [
    "#### 靶向药物的命名\n",
    "<table>\n",
    "    <caption>一个靶向药物的通用名提供了这个药物的相关信息，比如类别及靶点。</caption>\n",
    "<tr>\n",
    "    <th>Type</th>\n",
    "    <th colspan=\"3\">结尾词干 (化合物种类)</th>\n",
    "</tr>\n",
    "<tr>\n",
    "    <td rowspan=\"3\">单克隆抗体药物</td>\n",
    "    <td rowspan=\"3\">“-mab”(monoclonal antibody)</td>\n",
    "    <td>鼠-人嵌合型单克隆抗体</td><td>“-ximab”</td>\n",
    "    \n",
    "</tr>\n",
    "    <tr><td>人源化单克隆抗体</td><td>“-zumab”</td></tr>\n",
    "    <tr><td>全人单克隆抗体</td><td>“-mumab”</td></tr>\n",
    "<tr>\n",
    "    <td>小分子靶向药物</td>\n",
    "    <td>“-ib”(inhibitor)</td>\n",
    "</tr>\n",
    "    \n",
    "<table>\n",
    "<tr>\n",
    "    <th>Type</th>\n",
    "    <th colspan=\"2\">中间词干（靶点）</th> \n",
    "    <th>连成词尾</th>\n",
    "</tr>\n",
    "<tr>\n",
    "    <td rowspan=\"3\">单克隆抗体药物</td>\n",
    "    <td>作用于循环系统</td><td>“-ci-”</td>\n",
    "</tr>\n",
    "    <tr><td>作用于肿瘤组织</td><td>“-tu-”</td></tr>\n",
    "    <tr><td>作用于免疫系统</td><td>“-li(m)-”</td></tr>\n",
    "<tr>\n",
    "    <td rowspan=\"8\">小分子药物</td>\n",
    "    <td>酪氨酸激酶抑制剂 PTK(tyrosine kinase inhibitor,TKI)</td><td>“-tin-”</td><td>替尼 -tinib</td>\n",
    "</tr>\n",
    "    <tr><td>蛋白酶体抑制剂 CDK</td><td>“-zom-”</td><td> -ciclib</td></tr>\n",
    "    <tr><td>周期蛋白依赖性激酶抑制剂</td><td>“-cicl-”</td><td> </td></tr>\n",
    "    <tr><td>ADP核糖聚合酶抑制剂 PARP</td><td>“-par-”</td><td>帕尼 -parib</td></tr>\n",
    "    <tr><td> BRAF</td><td>“-par-”</td><td>非尼 -fenib</td></tr>\n",
    "    <tr><td> PI3K, mTOR</td><td>“-lis-”</td><td> -lisib</td></tr>\n",
    "    <tr><td> Hedgehog</td><td>“-modeg-”</td><td>德吉 -modegib</td></tr>\n",
    "    <tr><td> Aurora, PLK</td><td>“-sert-”</td><td>色替 -sertib</td></tr>"
   ]
  },
  {
   "cell_type": "markdown",
   "metadata": {},
   "source": [
    "##### Monoclonal Antibody (Mab):\n",
    "<img src='bio/Monoclonals.png' width='300'><img src='bio/ig-antibody-structure.png' width='400'>"
   ]
  },
  {
   "cell_type": "markdown",
   "metadata": {},
   "source": [
    "\n"
   ]
  },
  {
   "cell_type": "markdown",
   "metadata": {},
   "source": []
  },
  {
   "cell_type": "markdown",
   "metadata": {},
   "source": []
  },
  {
   "cell_type": "markdown",
   "metadata": {},
   "source": []
  },
  {
   "cell_type": "markdown",
   "metadata": {},
   "source": []
  },
  {
   "cell_type": "markdown",
   "metadata": {},
   "source": []
  },
  {
   "cell_type": "markdown",
   "metadata": {},
   "source": []
  },
  {
   "cell_type": "markdown",
   "metadata": {},
   "source": []
  },
  {
   "cell_type": "markdown",
   "metadata": {},
   "source": []
  }
 ],
 "metadata": {
  "kernelspec": {
   "display_name": "Python 3",
   "language": "python",
   "name": "python3"
  },
  "language_info": {
   "codemirror_mode": {
    "name": "ipython",
    "version": 3
   },
   "file_extension": ".py",
   "mimetype": "text/x-python",
   "name": "python",
   "nbconvert_exporter": "python",
   "pygments_lexer": "ipython3",
   "version": "3.7.4"
  }
 },
 "nbformat": 4,
 "nbformat_minor": 4
}
