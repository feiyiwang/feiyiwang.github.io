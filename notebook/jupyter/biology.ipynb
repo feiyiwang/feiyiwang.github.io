{
 "cells": [
  {
   "cell_type": "markdown",
   "metadata": {},
   "source": [
    "# Biology Prerequisites"
   ]
  },
  {
   "cell_type": "markdown",
   "metadata": {},
   "source": [
    "<b>Goal: </b>to "
   ]
  },
  {
   "cell_type": "markdown",
   "metadata": {},
   "source": [
    "### Enzyme 酶\n",
    "Enzymes are both proteins and biological catalysts (biocatalysts). Catalysts accelerate chemical reactions. The molecules upon which enzymes may act are called substrates, and the enzyme converts the substrates into different molecules known as products. Almost all metabolic processes in the cell need enzyme catalysis in order to occur at rates fast enough to sustain life. Metabolic pathways depend upon enzymes to catalyze individual steps.\n",
    "\n",
    "Enzymes are usually very specific as to what substrates they bind and then the chemical reaction catalysed. Specificity is achieved by binding pockets with complementary shape, charge and hydrophilic/hydrophobic characteristics to the substrates.\n",
    "\n",
    "https://en.wikipedia.org/wiki/Enzyme\n",
    "\n",
    "### Kinase 激酶\n",
    "In biochemistry, a kinase is an enzyme that catalyzes the transfer of phosphate groups from high-energy, phosphate-donating molecules to specific substrates. This process is known as phosphorylation 磷酸化作用, where the substrate gains a phosphate group 磷酸基团 meanwhile ATP 三磷酸腺苷 高能 $\\Rightarrow$ ADP 二磷酸腺苷 低能"
   ]
  },
  {
   "cell_type": "markdown",
   "metadata": {},
   "source": [
    "### Tyrosine Kinase (TK)\n",
    "An enzyme that can transfer a phosphate group from ATP to a protein in a cell. It functions as an \"on\" or \"off\" switch in many cellular functions. Tyrosine kinases are a subclass of protein kinase."
   ]
  },
  {
   "cell_type": "markdown",
   "metadata": {},
   "source": [
    "somatic mutation vs germline mutation\n",
    "\n",
    "early onset vs late onset\n",
    "\n",
    "dementia type\n",
    "Alzheimer's disease\n",
    "vascular dementia\n",
    "Lewy boday dementia\n",
    "frontotemporal disorders ftd\n",
    "\n",
    "hardy-weinberg equilibrium\n",
    "\n",
    "dna: deoxyribonucleic acid 脱氧核糖核酸\n",
    "gene： 一段有特定功能的dna片段\n",
    "chromosome: 染色体\n",
    "\n",
    "x为一个染色体\n",
    "shorter arm - p arm\n",
    "longer arm - q arm\n",
    "\n",
    "eg:\n",
    "\n",
    "\n",
    "snp是gwas的研究基础\n",
    "\n",
    "\n",
    "In immunology, an antigen 抗原 is a molecule or molecular structure, such as may be present at the outside of a pathogen 病原体 （细菌，细菌内毒素，病毒，真菌 etc）, that can be bound to by an antigen-specific antibody 抗体 or B cell antigen receptor 受体. \n",
    "\n",
    "familial vs sporadic\n",
    "e.g. 糖尿病 高血脂 \n",
    "\n",
    "\n",
    "编码 vs 非编码\n",
    "生成相应的蛋白质 VS 调节控制转录\n",
    "\n",
    "rna聚合酶 用 游离的核苷酸 生成 mRNA，用 修饰点（某种特定结构的片段） 调控 它的转录（transcribe） （从何开始，从何终止），到 e.g. uuuu 时终止 mRNA转录完成， 它可以 指导 转运rna（tRNA） 合成有相应功能的蛋白质\n",
    "复制 VS 转录 vs 翻译 -> 中心法则\n",
    "dna聚合酶 用 游离的核苷酸 生成 dna： 解旋，复制，\n",
    "\n",
    "启动子 promoter - 终止子 terminator\n",
    "（增强子 enhancer - 沉默子 silencer）绝缘子 insulater\n",
    "stop coden\n",
    "\n",
    "dna: a - t c - g\n",
    "rna: a - u c - g\n",
    "\n",
    "每3个核苷酸 - 1个coden 密码子 - 对应一个氨基酸\n",
    "氨基酸 是 组成蛋白质和肽peptides(两个氨基酸组成二肽)的基本单位，即蛋白质是有特定功能氨基酸链\n",
    "氨基酸是一类有氨基NH2和羧基COOH的有机物\n",
    "脱水后组合，组合后只剩NH称为酰\n",
    "一个蛋白质可以由多条肽链组成（4级结构）\n",
    "1-2-3-4 级结构\n",
    "\n",
    "核苷酸 是 组成dna rna 的基本单位，\n",
    "ATP 三磷酸腺苷 高能 - ADP 二磷酸腺苷 低能 = phosphate group \n",
    " - 生物催化剂 底物专一性 \n",
    "\n",
    "结合蛋白质 - 单纯蛋白质和辅基的结合\n",
    "按功能，有 激素，抗体，酶，血红蛋白，收缩蛋白（运动），核蛋白（传递遗传信息）\n",
    "\n",
    "人的消化即代谢 \n",
    "碳水化合物 胃 - 葡萄糖 glucose 血液 - 磷酸 细胞里 - 供能\n",
    "糖解作用的总体反应式：\n",
    "C6H12O6 + 2 NAD+ + 2 ADP + 2 H3PO4 → 2 NADH + 2 C3H4O3 + 2 ATP + 2 H2O + 2 H+\n",
    "\n",
    "蛋白质 胃 - 氨基酸 和 小肽 胃和小肠 - 被吸收后进入肝门静脉 - 脱氨后生成alpha-酮酸 - 非必须氨基酸 - 碳水化物，脂类 - 被氧化后供能\n",
    "\n",
    "血液的血糖浓度不要太大波动，故 补充蛋白质更优\n",
    "\n",
    "复制较多的地方容易出错\n",
    "\n",
    "人体纠错机制 - 绝大部分的错误的蛋白质会被识别清除\n",
    "癌细胞 - 没有被纠错机制识别\n",
    "\n"
   ]
  },
  {
   "cell_type": "code",
   "execution_count": null,
   "metadata": {},
   "outputs": [],
   "source": []
  },
  {
   "cell_type": "markdown",
   "metadata": {},
   "source": [
    "Multi-Omics and Clinical Data Integration to Identify and Target Personalized Healthcare Approaches\n",
    "\n",
    "My research interest is to build novel multimodal deep learning algorithms for patient pathway extraction and causal inference analysis with the utilization of  multiple data sources including multi-omics data, clinical data and medical imaging data.\n",
    "\n",
    "### motivation\n",
    "\n",
    "doing causal inference analysis using sp, claim, lab, sales\n",
    "\n",
    "effectiveness of our drug for Chronic myelogenous/myeloid  leukemia (CML)\n",
    "Chronic myelogenous/myeloid  leukemia (CML)\n",
    "\n",
    "so \n",
    "interested in\n",
    "\n",
    "but \n",
    "data limitation - quality, data field \n",
    "business limitation - no patience to wait for an unpromising res\n",
    "no guidance from acdemia, out of date tools/ideas/algorithms \n",
    "ehr - missing data\n",
    "\n",
    "meanwhile\n",
    "know the data in britain, northern europe, taiwan much better quality\n",
    "cuz of their universal healthcare plan\n",
    "learn multi-omics and imaging are very good data souces\n",
    "\n",
    "so search projects and want to apply ml algos to the data\n",
    "in ds, we have multimodal deep learning, put dialog, images, text together for a better understanding of each,\n",
    "so interesting to know in healthcare, data integration for prediction accuracy enhancement\n",
    "\n",
    "apply machine learning, inclusing novel modeling and optimization methods, to causal analysis using integrated data \n",
    "what we can do to improve a traditional logistic model in causal analysis by say disease subtype clustering, say common covariates clustering\n",
    "i did see papers talking about center-based clustering methods, then how applicable it would be if try density-based or distribution-based\n",
    "\n",
    "multi-omics -> (endophenotype) -> phenotype\n",
    "drug/treatment ->\n",
    "\n",
    "more interesting if add imaging analysis as a plus\n",
    "\n",
    "improve treatment quality\n"
   ]
  },
  {
   "cell_type": "code",
   "execution_count": null,
   "metadata": {},
   "outputs": [],
   "source": [
    "prostate cancer pts\n",
    "important biomarkers\n",
    "\n",
    "is nano published?\n",
    "\n",
    "how much "
   ]
  },
  {
   "cell_type": "markdown",
   "metadata": {},
   "source": [
    "clustering algos\n",
    "c-index -> auc"
   ]
  }
 ],
 "metadata": {
  "kernelspec": {
   "display_name": "Python 3",
   "language": "python",
   "name": "python3"
  },
  "language_info": {
   "codemirror_mode": {
    "name": "ipython",
    "version": 3
   },
   "file_extension": ".py",
   "mimetype": "text/x-python",
   "name": "python",
   "nbconvert_exporter": "python",
   "pygments_lexer": "ipython3",
   "version": "3.7.4"
  }
 },
 "nbformat": 4,
 "nbformat_minor": 4
}
