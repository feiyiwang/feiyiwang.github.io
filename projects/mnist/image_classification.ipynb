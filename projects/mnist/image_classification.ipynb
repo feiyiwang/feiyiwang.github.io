{
 "cells": [
  {
   "cell_type": "code",
   "execution_count": 191,
   "metadata": {},
   "outputs": [],
   "source": [
    "import pickle, gzip, math, numpy as np\n",
    "import torch, torch.nn as nn, torch.nn.functional as F\n",
    "import matplotlib.pyplot as plt\n",
    "import matplotlib.cm as cm\n",
    "from tqdm import tqdm_notebook as tqdm # a package for making progress bar"
   ]
  },
  {
   "cell_type": "markdown",
   "metadata": {},
   "source": [
    "# $\\color{Orange}{\\text{Load Data}}$"
   ]
  },
  {
   "cell_type": "code",
   "execution_count": 50,
   "metadata": {},
   "outputs": [],
   "source": [
    "def loadData(src):\n",
    "    '''\n",
    "    return: train_x - 2D Numpy array (n, d) where each row is an image\n",
    "            train_y - 1D Numpy array (n, ) where each row is a label\n",
    "            test_x  - 2D Numpy array (n, d) where each row is an image\n",
    "            test_y  - 1D Numpy array (n, ) where each row is a label\n",
    "    '''\n",
    "    f = gzip.open(src, 'rb')\n",
    "    train_set, valid_set, test_set = pickle.load(f, encoding='latin1')\n",
    "    \n",
    "    f.close()\n",
    "    train_x, train_y = train_set\n",
    "    valid_x, valid_y = valid_set\n",
    "    test_x, test_y = test_set\n",
    "    print('Originally, train len (n): '+str(len(train_y))+'  '+'valid len (n): '+str(len(valid_y))+'  '+'test len (n): '+str(len(test_y)))\n",
    "    train_x = np.vstack((train_x, valid_x))\n",
    "    train_y = np.append(train_y, valid_y)\n",
    "    print('Now, train len (n): '+str(len(train_y))+'  '+'test len (n): '+str(len(test_y)))\n",
    "    print('Each vec len (p): '+str(train_x.shape[1]))\n",
    "    return (train_x, train_y, test_x, test_y)"
   ]
  },
  {
   "cell_type": "code",
   "execution_count": 5,
   "metadata": {},
   "outputs": [],
   "source": [
    "def plotImg(X,n=0,p=0):\n",
    "    '''\n",
    "    return: image(s) with n rows & p cols\n",
    "    '''\n",
    "    num_images = X.shape[0]\n",
    "    if n == 0 & p == 0:\n",
    "        num_rows = math.floor(math.sqrt(num_images)) # floor: 2.5 -> 2\n",
    "        num_cols = math.ceil(num_images/num_rows) # ceil: 2.5 -> 3\n",
    "    else:\n",
    "        if n*p < num_images:\n",
    "            return print(\"Wrong n, p values\")\n",
    "        num_rows, num_cols = n, p\n",
    "    plt.figure(figsize=(20,10))\n",
    "    for i in range(num_images):\n",
    "        reshaped_image = X[i,:].reshape(28,28)\n",
    "        plt.subplot(num_rows, num_cols, i+1)\n",
    "        plt.imshow(reshaped_image, cmap = cm.Greys_r)\n",
    "        plt.axis('off')\n",
    "    plt.show()"
   ]
  },
  {
   "cell_type": "markdown",
   "metadata": {},
   "source": [
    "# $\\color{Orange}{\\text{Preprocess Data}}$"
   ]
  },
  {
   "cell_type": "code",
   "execution_count": 52,
   "metadata": {},
   "outputs": [],
   "source": [
    "# Split into train and dev\n",
    "split_index = int(9 * len(X_train) / 10)\n",
    "\n",
    "X_train, y_train = X_train[:split_index], y_train[:split_index]  # 9/10 train set -> n = 54000\n",
    "X_dev, y_dev= X_train[split_index:], y_train[split_index:]       # 1/10 dev set -> n = 6000\n",
    "\n",
    "permutation = np.array([i for i in range(len(X_train))])         # an array of nums from 0 to 54000\n",
    "np.random.shuffle(permutation)                                   # shuffle so as to reorder the data points\n",
    "X_train = [X_train[i] for i in permutation]\n",
    "y_train = [y_train[i] for i in permutation]"
   ]
  },
  {
   "cell_type": "code",
   "execution_count": 8,
   "metadata": {},
   "outputs": [],
   "source": [
    "def batchifyData(X, y, batch_size):\n",
    "    \"\"\"\n",
    "    Takes a set of data points and labels and groups them into batches.\n",
    "    \n",
    "    paras: X - inputs; \n",
    "           y - outputs; \n",
    "           batch_size - how many data points in each batch\n",
    "    \n",
    "    return: a list of dict \n",
    "            [{'x': tensor(mat1,...,matn), 'y': tensor(num1,...,numn)}, ...]\n",
    "    \"\"\"\n",
    "    # Only take batch_size chunks. The remainder will be dropped.\n",
    "    N = int(len(X) / batch_size) * batch_size # how many batches we have\n",
    "    batches = []\n",
    "    for i in range(0, N, batch_size):\n",
    "        batches.append({\n",
    "            'x': torch.tensor(X[i:i+batch_size], dtype=torch.float32),\n",
    "            'y': torch.tensor(y[i:i+batch_size], dtype=torch.long\n",
    "        )})\n",
    "    return batches"
   ]
  },
  {
   "cell_type": "code",
   "execution_count": 10,
   "metadata": {},
   "outputs": [
    {
     "data": {
      "text/plain": [
       "{'x': tensor([[0., 0., 0.,  ..., 0., 0., 0.],\n",
       "         [0., 0., 0.,  ..., 0., 0., 0.],\n",
       "         [0., 0., 0.,  ..., 0., 0., 0.],\n",
       "         ...,\n",
       "         [0., 0., 0.,  ..., 0., 0., 0.],\n",
       "         [0., 0., 0.,  ..., 0., 0., 0.],\n",
       "         [0., 0., 0.,  ..., 0., 0., 0.]]),\n",
       " 'y': tensor([2, 1, 1, 4, 4, 4, 9, 1, 0, 1, 1, 9, 3, 9, 0, 1, 3, 1, 3, 2, 8, 4, 9, 9,\n",
       "         8, 7, 1, 6, 3, 0, 3, 9])}"
      ]
     },
     "execution_count": 10,
     "metadata": {},
     "output_type": "execute_result"
    }
   ],
   "source": [
    "# How a batch looks like\n",
    "train_batches[0]"
   ]
  },
  {
   "cell_type": "markdown",
   "metadata": {},
   "source": [
    "# $\\color{Orange}{\\text{Modeling}}$"
   ]
  },
  {
   "cell_type": "code",
   "execution_count": 154,
   "metadata": {},
   "outputs": [],
   "source": [
    "def train_model(train_data, dev_data, model, lr=0.01, momentum=0.9, nesterov=False, n_epochs=30):\n",
    "    \"\"\"\n",
    "    Train a model for N epochs given data and hyper-params.\n",
    "    \n",
    "    return: a list of dictionary with [{'Train Loss','Validation Loss'},{'Train Accuracy','Validation Accuracy'}]\n",
    "    \"\"\"\n",
    "    # We optimize with SGD\n",
    "    optimizer = torch.optim.SGD(model.parameters(), lr=lr, momentum=momentum, nesterov=nesterov)\n",
    "    train_losses, train_accuracies, val_losses, val_accuracies = [],[],[],[]\n",
    "    \n",
    "    for epoch in tqdm.tqdm(range(1, n_epochs+1)):\n",
    "        print(\"-------------\\nEpoch {}:\\n\".format(epoch))\n",
    "\n",
    "        # Run **training***\n",
    "        train_loss, train_acc = run_epoch(train_data, model.train(), optimizer)\n",
    "        print('Train loss: {:.6f} | Train accuracy: {:.6f}'.format(loss, acc))\n",
    "        # Run **validation**\n",
    "        val_loss, val_acc = run_epoch(dev_data, model.eval(), optimizer)\n",
    "        print('Val loss:   {:.6f} | Val accuracy:   {:.6f}'.format(val_loss, val_acc))\n",
    "        \n",
    "        train_losses.append(train_loss)\n",
    "        train_accuracies.append(train_acc)\n",
    "        val_losses.append(val_loss)\n",
    "        val_accuracies.append(val_acc)\n",
    "        \n",
    "        # Save model\n",
    "        torch.save(model, 'mnist_model_fully_connected.pt')\n",
    "        \n",
    "    return [{'Train loss':train_losses,'Validation loss':val_losses},\n",
    "            {'Train accuracy':train_accuracies,'Validation accuracy':val_accuracies}]\n",
    "\n",
    "def run_epoch(data, model, optimizer):\n",
    "    \"\"\"Train model for one pass of train data, and return loss, acccuracy\"\"\"\n",
    "    # Gather losses\n",
    "    losses = []\n",
    "    batch_accuracies = []\n",
    "\n",
    "    # If model is in train mode, use optimizer.\n",
    "    is_training = model.training\n",
    "\n",
    "    # Iterate through batches\n",
    "    for batch in data:\n",
    "        # Grab x and y\n",
    "        x, y = batch['x'], batch['y']\n",
    "\n",
    "        # Get output predictions\n",
    "        out = model(x)\n",
    "\n",
    "        # Predict and store accuracy\n",
    "        predictions = torch.argmax(out, dim=1)\n",
    "        ## need to change pytorch tensor to numpy array so as to apply np funcs\n",
    "        accuracy = np.mean(np.equal(predictions.numpy(), y.numpy()))\n",
    "        batch_accuracies.append(accuracy)\n",
    "\n",
    "        # Compute loss\n",
    "        loss = F.cross_entropy(out, y)\n",
    "        losses.append(loss.data.item())\n",
    "\n",
    "        # If training, do an update.\n",
    "        if is_training:\n",
    "            optimizer.zero_grad()\n",
    "            loss.backward()\n",
    "            optimizer.step()\n",
    "\n",
    "    # Calculate epoch level scores\n",
    "    avg_loss = np.mean(losses)\n",
    "    avg_accuracy = np.mean(batch_accuracies)\n",
    "    return avg_loss, avg_accuracy"
   ]
  },
  {
   "cell_type": "code",
   "execution_count": 179,
   "metadata": {},
   "outputs": [],
   "source": [
    "class Flatten(nn.Module):\n",
    "    \"\"\"A custom layer that views an input as 1D.\"\"\"\n",
    "    def forward(self, input):\n",
    "        return input.view(input.size(0), -1)"
   ]
  },
  {
   "cell_type": "markdown",
   "metadata": {},
   "source": [
    "# $\\color{Orange}{\\text{Utilities}}$"
   ]
  },
  {
   "cell_type": "code",
   "execution_count": 182,
   "metadata": {},
   "outputs": [],
   "source": [
    "def processData(algo):\n",
    "    '''\n",
    "    return: a list of dictionary with [{'Train Loss','Validation Loss'},{'Train Accuracy','Validation Accuracy'}]\n",
    "    '''\n",
    "    if algo == 'FFNN':  # each image is a flattened vector\n",
    "        X_train_dev_ = X_train_dev\n",
    "        X_test_ = X_test\n",
    "    elif algo == 'CNN':  # need to rehape the data back into a 1x28x28 image\n",
    "        X_train_dev_ = np.reshape(X_train_dev, (X_train_dev.shape[0], 1, 28, 28))\n",
    "        X_test_ = np.reshape(X_test, (X_test.shape[0], 1, 28, 28))\n",
    "    \n",
    "    # Split into train and dev\n",
    "    split_index = int(9 * len(X_train_dev) / 10)\n",
    "\n",
    "    X_train, y_train = X_train_dev[:split_index], y_train_dev[:split_index]  # 9/10 train set -> n = 54000\n",
    "    X_dev, y_dev= X_train_dev[split_index:], y_train_dev[split_index:]       # 1/10 dev set -> n = 6000\n",
    "\n",
    "    permutation = np.array([i for i in range(len(X_train))])         # an array of nums from 0 to 54000\n",
    "    np.random.shuffle(permutation)                                   # shuffle so as to reorder the data points\n",
    "    X_train = [X_train[i] for i in permutation]\n",
    "    y_train = [y_train[i] for i in permutation]\n",
    "    \n",
    "    # Split dataset into batches\n",
    "    train_batches = batchifyData(X_train, y_train, batch_size)\n",
    "    dev_batches = batchifyData(X_dev, y_dev, batch_size)\n",
    "    test_batches = batchifyData(X_test, y_test, batch_size)\n",
    "    \n",
    "    # train model\n",
    "    res = train_model(train_batches, dev_batches, model, lr=lr, momentum=momentum, nesterov=nesterov, n_epochs=n_epochs)\n",
    "    \n",
    "    # Evaluate the model on test data\n",
    "    loss, accuracy = run_epoch(test_batches, model.eval(), None)\n",
    "    print()\n",
    "    print(\"Loss on test set:\"  + str(loss) + \" Accuracy on test set: \" + str(accuracy))\n",
    "    return res"
   ]
  },
  {
   "cell_type": "code",
   "execution_count": 165,
   "metadata": {},
   "outputs": [],
   "source": [
    "def plotRes(res_dict,title):\n",
    "    for key, values in res_dict.items():\n",
    "        plt.plot(values, marker='o', markersize=5, label=key)\n",
    "    plt.legend()\n",
    "    plt.title(title)"
   ]
  },
  {
   "cell_type": "markdown",
   "metadata": {},
   "source": [
    "# $\\color{Orange}{\\text{Set Parameters & Run Model}}$"
   ]
  },
  {
   "cell_type": "code",
   "execution_count": 183,
   "metadata": {},
   "outputs": [
    {
     "name": "stdout",
     "output_type": "stream",
     "text": [
      "Originally, train len (n): 50000  valid len (n): 10000  test len (n): 10000\n",
      "Now, train len (n): 60000  test len (n): 10000\n",
      "Each vec len (p): 784\n"
     ]
    }
   ],
   "source": [
    "np.random.seed(12321)  # for reproducibility\n",
    "torch.manual_seed(12321)  # for reproducibility\n",
    "X_train_dev, y_train_dev, X_test, y_test = loadData('mnist.pkl.gz')"
   ]
  },
  {
   "cell_type": "code",
   "execution_count": 158,
   "metadata": {},
   "outputs": [
    {
     "data": {
      "image/png": "[encoded data removed]",
      "text/plain": [
       "<Figure size 1440x720 with 10 Axes>"
      ]
     },
     "metadata": {
      "needs_background": "light"
     },
     "output_type": "display_data"
    }
   ],
   "source": [
    "plotImg(X_train_dev[:10],1,10)"
   ]
  },
  {
   "cell_type": "code",
   "execution_count": 184,
   "metadata": {},
   "outputs": [],
   "source": [
    "# Model specification\n",
    "batch_size = 64\n",
    "\n",
    "## Hidden Layer Representation Size\n",
    "unit_size = 128\n",
    "\n",
    "## FFNN Model\n",
    "model_ffnn = nn.Sequential(\n",
    "    nn.Linear(784, unit_size),\n",
    "    nn.LeakyReLU(),\n",
    "    nn.Linear(unit_size, 10)\n",
    ")\n",
    "\n",
    "## CNN Model\n",
    "model_cnn = nn.Sequential(\n",
    "    nn.Conv2d(1, 32, (3, 3)),\n",
    "    nn.ReLU(),\n",
    "    nn.MaxPool2d((2, 2)),\n",
    "    nn.Conv2d(32, 64, (3,3)),\n",
    "    nn.ReLU(),\n",
    "    nn.MaxPool2d((2,2)),\n",
    "    Flatten(),\n",
    "    nn.Linear(1600,unit_size),\n",
    "    nn.Dropout(),\n",
    "    nn.Linear(unit_size,10)\n",
    ")\n",
    "        \n",
    "lr = 0.1\n",
    "momentum = 0.9\n",
    "nesterov = False\n",
    "n_epochs = 20"
   ]
  },
  {
   "cell_type": "code",
   "execution_count": 185,
   "metadata": {
    "scrolled": true
   },
   "outputs": [
    {
     "name": "stderr",
     "output_type": "stream",
     "text": [
      "\n",
      "  0%|          | 0/10 [00:00<?, ?it/s]\u001b[A"
     ]
    },
    {
     "name": "stdout",
     "output_type": "stream",
     "text": [
      "-------------\n",
      "Epoch 1:\n",
      "\n"
     ]
    },
    {
     "name": "stderr",
     "output_type": "stream",
     "text": [
      "\n",
      " 10%|█         | 1/10 [00:02<00:22,  2.46s/it]\u001b[A"
     ]
    },
    {
     "name": "stdout",
     "output_type": "stream",
     "text": [
      "Train loss: 0.204818 | Train accuracy: 0.940983\n",
      "Val loss:   0.127970 | Val accuracy:   0.966230\n",
      "-------------\n",
      "Epoch 2:\n",
      "\n"
     ]
    },
    {
     "name": "stderr",
     "output_type": "stream",
     "text": [
      "\n",
      " 20%|██        | 2/10 [00:04<00:18,  2.34s/it]\u001b[A"
     ]
    },
    {
     "name": "stdout",
     "output_type": "stream",
     "text": [
      "Train loss: 0.204818 | Train accuracy: 0.940983\n",
      "Val loss:   0.134007 | Val accuracy:   0.968918\n",
      "-------------\n",
      "Epoch 3:\n",
      "\n"
     ]
    },
    {
     "name": "stderr",
     "output_type": "stream",
     "text": [
      "\n",
      " 30%|███       | 3/10 [00:06<00:15,  2.24s/it]\u001b[A"
     ]
    },
    {
     "name": "stdout",
     "output_type": "stream",
     "text": [
      "Train loss: 0.204818 | Train accuracy: 0.940983\n",
      "Val loss:   0.111214 | Val accuracy:   0.973454\n",
      "-------------\n",
      "Epoch 4:\n",
      "\n"
     ]
    },
    {
     "name": "stderr",
     "output_type": "stream",
     "text": [
      "\n",
      " 40%|████      | 4/10 [00:08<00:12,  2.17s/it]\u001b[A"
     ]
    },
    {
     "name": "stdout",
     "output_type": "stream",
     "text": [
      "Train loss: 0.204818 | Train accuracy: 0.940983\n",
      "Val loss:   0.117545 | Val accuracy:   0.973622\n",
      "-------------\n",
      "Epoch 5:\n",
      "\n"
     ]
    },
    {
     "name": "stderr",
     "output_type": "stream",
     "text": [
      "\n",
      " 50%|█████     | 5/10 [00:10<00:10,  2.12s/it]\u001b[A"
     ]
    },
    {
     "name": "stdout",
     "output_type": "stream",
     "text": [
      "Train loss: 0.204818 | Train accuracy: 0.940983\n",
      "Val loss:   0.128817 | Val accuracy:   0.971606\n",
      "-------------\n",
      "Epoch 6:\n",
      "\n"
     ]
    },
    {
     "name": "stderr",
     "output_type": "stream",
     "text": [
      "\n",
      " 60%|██████    | 6/10 [00:12<00:08,  2.10s/it]\u001b[A"
     ]
    },
    {
     "name": "stdout",
     "output_type": "stream",
     "text": [
      "Train loss: 0.204818 | Train accuracy: 0.940983\n",
      "Val loss:   0.110177 | Val accuracy:   0.975806\n",
      "-------------\n",
      "Epoch 7:\n",
      "\n"
     ]
    },
    {
     "name": "stderr",
     "output_type": "stream",
     "text": [
      "\n",
      " 70%|███████   | 7/10 [00:14<00:06,  2.07s/it]\u001b[A"
     ]
    },
    {
     "name": "stdout",
     "output_type": "stream",
     "text": [
      "Train loss: 0.204818 | Train accuracy: 0.940983\n",
      "Val loss:   0.110957 | Val accuracy:   0.976647\n",
      "-------------\n",
      "Epoch 8:\n",
      "\n"
     ]
    },
    {
     "name": "stderr",
     "output_type": "stream",
     "text": [
      "\n",
      " 80%|████████  | 8/10 [00:16<00:03,  1.99s/it]\u001b[A"
     ]
    },
    {
     "name": "stdout",
     "output_type": "stream",
     "text": [
      "Train loss: 0.204818 | Train accuracy: 0.940983\n",
      "Val loss:   0.149728 | Val accuracy:   0.971102\n",
      "-------------\n",
      "Epoch 9:\n",
      "\n"
     ]
    },
    {
     "name": "stderr",
     "output_type": "stream",
     "text": [
      "\n",
      " 90%|█████████ | 9/10 [00:18<00:02,  2.01s/it]\u001b[A"
     ]
    },
    {
     "name": "stdout",
     "output_type": "stream",
     "text": [
      "Train loss: 0.204818 | Train accuracy: 0.940983\n",
      "Val loss:   0.122145 | Val accuracy:   0.977991\n",
      "-------------\n",
      "Epoch 10:\n",
      "\n"
     ]
    },
    {
     "name": "stderr",
     "output_type": "stream",
     "text": [
      "\n",
      "100%|██████████| 10/10 [00:20<00:00,  2.01s/it]\u001b[A"
     ]
    },
    {
     "name": "stdout",
     "output_type": "stream",
     "text": [
      "Train loss: 0.204818 | Train accuracy: 0.940983\n",
      "Val loss:   0.145686 | Val accuracy:   0.975302\n",
      "\n",
      "Loss on test set:0.13679060793648928 Accuracy on test set: 0.9731570512820513\n"
     ]
    }
   ],
   "source": [
    "# test accuracy = 0.9204727564102564 when batch size = 64 lr = 0.1\n",
    "res = processData('CNN')"
   ]
  },
  {
   "cell_type": "code",
   "execution_count": 186,
   "metadata": {},
   "outputs": [
    {
     "data": {
      "image/png": "[encoded data removed]",
      "text/plain": [
       "<Figure size 432x288 with 1 Axes>"
      ]
     },
     "metadata": {
      "needs_background": "light"
     },
     "output_type": "display_data"
    }
   ],
   "source": [
    "plotRes(res[0],'Training Loss vs Validation Loss')"
   ]
  },
  {
   "cell_type": "code",
   "execution_count": 187,
   "metadata": {},
   "outputs": [
    {
     "data": {
      "image/png": "[encoded data removed]",
      "text/plain": [
       "<Figure size 432x288 with 1 Axes>"
      ]
     },
     "metadata": {
      "needs_background": "light"
     },
     "output_type": "display_data"
    }
   ],
   "source": [
    "plotRes(res[1],'Training Accuracy vs Validation Accuracy') # CNN"
   ]
  },
  {
   "cell_type": "code",
   "execution_count": 176,
   "metadata": {},
   "outputs": [
    {
     "data": {
      "image/png": "[encoded data removed]",
      "text/plain": [
       "<Figure size 432x288 with 1 Axes>"
      ]
     },
     "metadata": {
      "needs_background": "light"
     },
     "output_type": "display_data"
    }
   ],
   "source": [
    "plotRes(res[1],'Training Accuracy vs Validation Accuracy') # FFNN"
   ]
  },
  {
   "cell_type": "code",
   "execution_count": null,
   "metadata": {},
   "outputs": [],
   "source": [
    "# Grab x and y\n",
    "x, y = batch['x'], batch['y']\n",
    "\n",
    "# Get output predictions\n",
    "out = model(x)\n",
    "\n",
    "# Predict and store accuracy\n",
    "predictions = torch.argmax(out, dim=1)\n",
    "## need to change pytorch tensor to numpy array so as to apply np funcs\n",
    "accuracy = np.mean(np.equal(predictions.numpy(), y.numpy()))\n",
    "batch_accuracies.append(accuracy)"
   ]
  },
  {
   "cell_type": "code",
   "execution_count": 217,
   "metadata": {},
   "outputs": [],
   "source": [
    "pred = torch.argmax(model(test_batches[0]['x']),dim=1)"
   ]
  },
  {
   "cell_type": "code",
   "execution_count": 220,
   "metadata": {},
   "outputs": [
    {
     "data": {
      "text/plain": [
       "1.0"
      ]
     },
     "execution_count": 220,
     "metadata": {},
     "output_type": "execute_result"
    }
   ],
   "source": [
    "np.mean(np.equal(pred.numpy(),test_batches[0]['y'].numpy()))"
   ]
  },
  {
   "cell_type": "code",
   "execution_count": null,
   "metadata": {},
   "outputs": [],
   "source": []
  }
 ],
 "metadata": {
  "kernelspec": {
   "display_name": "Python 3",
   "language": "python",
   "name": "python3"
  },
  "language_info": {
   "codemirror_mode": {
    "name": "ipython",
    "version": 3
   },
   "file_extension": ".py",
   "mimetype": "text/x-python",
   "name": "python",
   "nbconvert_exporter": "python",
   "pygments_lexer": "ipython3",
   "version": "3.7.4"
  }
 },
 "nbformat": 4,
 "nbformat_minor": 4
}
