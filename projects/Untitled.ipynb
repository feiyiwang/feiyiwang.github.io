{
 "cells": [
  {
   "cell_type": "markdown",
   "metadata": {},
   "source": [
    "# PhD Research Plan"
   ]
  },
  {
   "cell_type": "markdown",
   "metadata": {},
   "source": [
    "## <font color='green'>Rationale</font>\n",
    "\n",
    "<table>\n",
    "    <tr>\n",
    "        <th></th>\n",
    "        <th>Bottleneck at present</th>\n",
    "        <th>Potential at CoECDG</th>\n",
    "    </tr>\n",
    "    <tr>\n",
    "        <th rowspan=\"2\">Data Source</th>\n",
    "        <td>DFCI: EHR</td>\n",
    "        <td rowspan=\"2\">Multi-omics, EHR</td>\n",
    "    </tr>\n",
    "    <tr><td>Takeda: Claims</td></tr>\n",
    "    <tr>\n",
    "        <th rowspan=\"2\">Data Integration</th>\n",
    "        <td>DFCI: EHR</td>\n",
    "        <td rowspan=\"2\"></td>\n",
    "    </tr>\n",
    "    <tr><td>Takeda: Claims</td></tr>\n",
    "    <tr>\n",
    "        <th rowspan=\"2\">Modeling</th>\n",
    "        <td>DFCI: EHR</td>\n",
    "        <td rowspan=\"2\"></td>\n",
    "    </tr>\n",
    "    <tr><td>Takeda: Claims</td></tr>\n",
    "    <tr>\n",
    "        <th rowspan=\"2\">Applicability</th>\n",
    "        <td>DFCI: EHR</td>\n",
    "        <td rowspan=\"2\"></td>\n",
    "    </tr>\n",
    "    <tr><td>Takeda: Claims</td></tr>"
   ]
  },
  {
   "cell_type": "markdown",
   "metadata": {},
   "source": [
    "### <font color='green'>Objectives</font>\n"
   ]
  },
  {
   "cell_type": "markdown",
   "metadata": {},
   "source": [
    "### <font color='green'>Motivation</font>"
   ]
  },
  {
   "cell_type": "markdown",
   "metadata": {},
   "source": [
    "Some quick thoughts from BI:\n",
    "\n",
    "### Market Segmentation\n",
    "<img src='plan/clustering.png' width='400'>\n",
    "\n",
    "### Recommendation System\n",
    "<img src='plan/user-item.png' width='350'>\n",
    "\n",
    "### Causal Analysis $/Rightarrow$ Random Forest"
   ]
  },
  {
   "cell_type": "markdown",
   "metadata": {},
   "source": [
    "Multi-Omics and Clinical Data Integration to Identify and Target Personalized Healthcare Approaches\n",
    "\n",
    "My research interest is to build novel multimodal deep learning algorithms for patient pathway extraction and causal inference analysis with the utilization of  multiple data sources including multi-omics data, clinical data and medical imaging data.\n",
    "\n",
    "### motivation\n",
    "\n",
    "doing causal inference analysis using sp, claim, lab, sales\n",
    "\n",
    "effectiveness of our drug for Chronic myelogenous/myeloid  leukemia (CML)\n",
    "Chronic myelogenous/myeloid  leukemia (CML)\n",
    "\n",
    "so \n",
    "interested in\n",
    "\n",
    "but \n",
    "data limitation - quality, data field \n",
    "business limitation - no patience to wait for an unpromising res\n",
    "no guidance from acdemia, out of date tools/ideas/algorithms \n",
    "ehr - missing data\n",
    "\n",
    "meanwhile\n",
    "know the data in britain, northern europe, taiwan much better quality\n",
    "cuz of their universal healthcare plan\n",
    "learn multi-omics and imaging are very good data souces\n",
    "\n",
    "so search projects and want to apply ml algos to the data\n",
    "in ds, we have multimodal deep learning, put dialog, images, text together for a better understanding of each,\n",
    "so interesting to know in healthcare, data integration for prediction accuracy enhancement\n",
    "\n",
    "apply machine learning, inclusing novel modeling and optimization methods, to causal analysis using integrated data \n",
    "what we can do to improve a traditional logistic model in causal analysis by say disease subtype clustering, say common covariates clustering\n",
    "i did see papers talking about center-based clustering methods, then how applicable it would be if try density-based or distribution-based\n",
    "\n",
    "multi-omics -> (endophenotype) -> phenotype\n",
    "drug/treatment ->\n",
    "\n",
    "more interesting if add imaging analysis as a plus\n",
    "\n",
    "improve treatment quality\n",
    "\n",
    "gene disposition\n",
    "单克隆抗体 mab - anti-drug anti-body\n",
    "\n",
    "### ability to success"
   ]
  },
  {
   "cell_type": "code",
   "execution_count": null,
   "metadata": {},
   "outputs": [],
   "source": []
  }
 ],
 "metadata": {
  "kernelspec": {
   "display_name": "Python 3",
   "language": "python",
   "name": "python3"
  },
  "language_info": {
   "codemirror_mode": {
    "name": "ipython",
    "version": 3
   },
   "file_extension": ".py",
   "mimetype": "text/x-python",
   "name": "python",
   "nbconvert_exporter": "python",
   "pygments_lexer": "ipython3",
   "version": "3.7.4"
  }
 },
 "nbformat": 4,
 "nbformat_minor": 4
}
