{
 "cells": [
  {
   "cell_type": "markdown",
   "metadata": {},
   "source": [
    "# PhD Research Plan"
   ]
  },
  {
   "cell_type": "markdown",
   "metadata": {},
   "source": [
    "## <font color='green'>Rationale</font>\n",
    "\n",
    "<img src='plan/table.png'>"
   ]
  },
  {
   "cell_type": "markdown",
   "metadata": {},
   "source": [
    "## <font color='green'>Objectives</font>\n",
    "##### Utilize multi-omics data and clinical data integration to identify disease subtypes and target personalized treatment\n",
    "<br><br>"
   ]
  },
  {
   "cell_type": "markdown",
   "metadata": {},
   "source": [
    "<img src='plan/frame.png' width='600'>"
   ]
  },
  {
   "cell_type": "markdown",
   "metadata": {},
   "source": [
    "## <font color='green'>Some quick thoughts from data science</font>\n",
    "\n",
    "#### Market Segmentation $\\Rightarrow$ Clustering $\\Rightarrow$ Patient Grouping / Dimension Reduction\n",
    "<img src='plan/clustering.png' width='400'>\n",
    "\n",
    "#### Recommendation System $\\Rightarrow$ Collaborative Filtering $\\Rightarrow$ Patient Grouping / Denoising\n",
    "<img src='plan/user-item.png' width='350'>\n",
    "\n",
    "#### Classification $\\Rightarrow$ Ensemble Learning $\\Rightarrow$ Genotype Selection / Disease Subtype Prediction \n",
    "<img src='plan/ensemble.png' width='500'>"
   ]
  }
 ],
 "metadata": {
  "kernelspec": {
   "display_name": "Python 3",
   "language": "python",
   "name": "python3"
  },
  "language_info": {
   "codemirror_mode": {
    "name": "ipython",
    "version": 3
   },
   "file_extension": ".py",
   "mimetype": "text/x-python",
   "name": "python",
   "nbconvert_exporter": "python",
   "pygments_lexer": "ipython3",
   "version": "3.7.4"
  }
 },
 "nbformat": 4,
 "nbformat_minor": 4
}
